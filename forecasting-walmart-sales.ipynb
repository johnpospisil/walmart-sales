{
 "cells": [
  {
   "cell_type": "code",
   "execution_count": 1,
   "id": "ea10ddc2",
   "metadata": {
    "_cell_guid": "b1076dfc-b9ad-4769-8c92-a6c4dae69d19",
    "_uuid": "8f2839f25d086af736a60e9eeb907d3b93b6e0e5",
    "execution": {
     "iopub.execute_input": "2025-03-18T20:52:34.125141Z",
     "iopub.status.busy": "2025-03-18T20:52:34.124745Z",
     "iopub.status.idle": "2025-03-18T20:52:34.959575Z",
     "shell.execute_reply": "2025-03-18T20:52:34.958147Z"
    },
    "papermill": {
     "duration": 0.843054,
     "end_time": "2025-03-18T20:52:34.961428",
     "exception": false,
     "start_time": "2025-03-18T20:52:34.118374",
     "status": "completed"
    },
    "tags": []
   },
   "outputs": [
    {
     "name": "stdout",
     "output_type": "stream",
     "text": [
      "/kaggle/input/walmart-sales-forecast/features.csv\n",
      "/kaggle/input/walmart-sales-forecast/stores.csv\n",
      "/kaggle/input/walmart-sales-forecast/train.csv\n",
      "/kaggle/input/walmart-sales-forecast/test.csv\n"
     ]
    }
   ],
   "source": [
    "# This Python 3 environment comes with many helpful analytics libraries installed\n",
    "# It is defined by the kaggle/python Docker image: https://github.com/kaggle/docker-python\n",
    "# For example, here's several helpful packages to load\n",
    "\n",
    "import numpy as np # linear algebra\n",
    "import pandas as pd # data processing, CSV file I/O (e.g. pd.read_csv)\n",
    "\n",
    "# Input data files are available in the read-only \"../input/\" directory\n",
    "# For example, running this (by clicking run or pressing Shift+Enter) will list all files under the input directory\n",
    "\n",
    "import os\n",
    "for dirname, _, filenames in os.walk('/kaggle/input'):\n",
    "    for filename in filenames:\n",
    "        print(os.path.join(dirname, filename))\n",
    "\n",
    "# You can write up to 20GB to the current directory (/kaggle/working/) that gets preserved as output when you create a version using \"Save & Run All\" \n",
    "# You can also write temporary files to /kaggle/temp/, but they won't be saved outside of the current session"
   ]
  },
  {
   "cell_type": "code",
   "execution_count": 2,
   "id": "7376a590",
   "metadata": {
    "execution": {
     "iopub.execute_input": "2025-03-18T20:52:34.971984Z",
     "iopub.status.busy": "2025-03-18T20:52:34.971517Z",
     "iopub.status.idle": "2025-03-18T20:52:35.435327Z",
     "shell.execute_reply": "2025-03-18T20:52:35.434275Z"
    },
    "papermill": {
     "duration": 0.470961,
     "end_time": "2025-03-18T20:52:35.437208",
     "exception": false,
     "start_time": "2025-03-18T20:52:34.966247",
     "status": "completed"
    },
    "tags": []
   },
   "outputs": [],
   "source": [
    "# Define file paths\n",
    "features_path = \"/kaggle/input/walmart-sales-forecast/features.csv\"\n",
    "stores_path   = \"/kaggle/input/walmart-sales-forecast/stores.csv\"\n",
    "train_path    = \"/kaggle/input/walmart-sales-forecast/train.csv\"\n",
    "test_path     = \"/kaggle/input/walmart-sales-forecast/test.csv\"\n",
    "\n",
    "# Load datasets\n",
    "features = pd.read_csv(features_path)\n",
    "stores   = pd.read_csv(stores_path)\n",
    "train    = pd.read_csv(train_path)\n",
    "test     = pd.read_csv(test_path)"
   ]
  },
  {
   "cell_type": "code",
   "execution_count": 3,
   "id": "c0e771c1",
   "metadata": {
    "execution": {
     "iopub.execute_input": "2025-03-18T20:52:35.447463Z",
     "iopub.status.busy": "2025-03-18T20:52:35.447094Z",
     "iopub.status.idle": "2025-03-18T20:52:35.529333Z",
     "shell.execute_reply": "2025-03-18T20:52:35.528278Z"
    },
    "papermill": {
     "duration": 0.089519,
     "end_time": "2025-03-18T20:52:35.531315",
     "exception": false,
     "start_time": "2025-03-18T20:52:35.441796",
     "status": "completed"
    },
    "tags": []
   },
   "outputs": [],
   "source": [
    "# Convert the 'Date' column to datetime format\n",
    "train[\"Date\"] = pd.to_datetime(train[\"Date\"], format=\"%Y-%m-%d\")\n",
    "test[\"Date\"] = pd.to_datetime(test[\"Date\"], format=\"%Y-%m-%d\")\n",
    "features[\"Date\"] = pd.to_datetime(features[\"Date\"], format=\"%Y-%m-%d\")"
   ]
  },
  {
   "cell_type": "markdown",
   "id": "57fade3b",
   "metadata": {
    "papermill": {
     "duration": 0.004126,
     "end_time": "2025-03-18T20:52:35.540135",
     "exception": false,
     "start_time": "2025-03-18T20:52:35.536009",
     "status": "completed"
    },
    "tags": []
   },
   "source": [
    "### Store Data"
   ]
  },
  {
   "cell_type": "code",
   "execution_count": 4,
   "id": "7b8c0ba0",
   "metadata": {
    "execution": {
     "iopub.execute_input": "2025-03-18T20:52:35.550160Z",
     "iopub.status.busy": "2025-03-18T20:52:35.549758Z",
     "iopub.status.idle": "2025-03-18T20:52:35.570387Z",
     "shell.execute_reply": "2025-03-18T20:52:35.569365Z"
    },
    "papermill": {
     "duration": 0.027532,
     "end_time": "2025-03-18T20:52:35.571961",
     "exception": false,
     "start_time": "2025-03-18T20:52:35.544429",
     "status": "completed"
    },
    "tags": []
   },
   "outputs": [
    {
     "data": {
      "text/html": [
       "<div>\n",
       "<style scoped>\n",
       "    .dataframe tbody tr th:only-of-type {\n",
       "        vertical-align: middle;\n",
       "    }\n",
       "\n",
       "    .dataframe tbody tr th {\n",
       "        vertical-align: top;\n",
       "    }\n",
       "\n",
       "    .dataframe thead th {\n",
       "        text-align: right;\n",
       "    }\n",
       "</style>\n",
       "<table border=\"1\" class=\"dataframe\">\n",
       "  <thead>\n",
       "    <tr style=\"text-align: right;\">\n",
       "      <th></th>\n",
       "      <th>Store</th>\n",
       "      <th>Type</th>\n",
       "      <th>Size</th>\n",
       "    </tr>\n",
       "  </thead>\n",
       "  <tbody>\n",
       "    <tr>\n",
       "      <th>0</th>\n",
       "      <td>1</td>\n",
       "      <td>A</td>\n",
       "      <td>151315</td>\n",
       "    </tr>\n",
       "    <tr>\n",
       "      <th>1</th>\n",
       "      <td>2</td>\n",
       "      <td>A</td>\n",
       "      <td>202307</td>\n",
       "    </tr>\n",
       "    <tr>\n",
       "      <th>2</th>\n",
       "      <td>3</td>\n",
       "      <td>B</td>\n",
       "      <td>37392</td>\n",
       "    </tr>\n",
       "    <tr>\n",
       "      <th>3</th>\n",
       "      <td>4</td>\n",
       "      <td>A</td>\n",
       "      <td>205863</td>\n",
       "    </tr>\n",
       "    <tr>\n",
       "      <th>4</th>\n",
       "      <td>5</td>\n",
       "      <td>B</td>\n",
       "      <td>34875</td>\n",
       "    </tr>\n",
       "  </tbody>\n",
       "</table>\n",
       "</div>"
      ],
      "text/plain": [
       "   Store Type    Size\n",
       "0      1    A  151315\n",
       "1      2    A  202307\n",
       "2      3    B   37392\n",
       "3      4    A  205863\n",
       "4      5    B   34875"
      ]
     },
     "execution_count": 4,
     "metadata": {},
     "output_type": "execute_result"
    }
   ],
   "source": [
    "stores.head()"
   ]
  },
  {
   "cell_type": "code",
   "execution_count": 5,
   "id": "86f3c669",
   "metadata": {
    "execution": {
     "iopub.execute_input": "2025-03-18T20:52:35.582640Z",
     "iopub.status.busy": "2025-03-18T20:52:35.582305Z",
     "iopub.status.idle": "2025-03-18T20:52:35.590972Z",
     "shell.execute_reply": "2025-03-18T20:52:35.590088Z"
    },
    "papermill": {
     "duration": 0.01593,
     "end_time": "2025-03-18T20:52:35.592715",
     "exception": false,
     "start_time": "2025-03-18T20:52:35.576785",
     "status": "completed"
    },
    "tags": []
   },
   "outputs": [
    {
     "data": {
      "text/html": [
       "<div>\n",
       "<style scoped>\n",
       "    .dataframe tbody tr th:only-of-type {\n",
       "        vertical-align: middle;\n",
       "    }\n",
       "\n",
       "    .dataframe tbody tr th {\n",
       "        vertical-align: top;\n",
       "    }\n",
       "\n",
       "    .dataframe thead th {\n",
       "        text-align: right;\n",
       "    }\n",
       "</style>\n",
       "<table border=\"1\" class=\"dataframe\">\n",
       "  <thead>\n",
       "    <tr style=\"text-align: right;\">\n",
       "      <th></th>\n",
       "      <th>Store</th>\n",
       "      <th>Type</th>\n",
       "      <th>Size</th>\n",
       "    </tr>\n",
       "  </thead>\n",
       "  <tbody>\n",
       "    <tr>\n",
       "      <th>40</th>\n",
       "      <td>41</td>\n",
       "      <td>A</td>\n",
       "      <td>196321</td>\n",
       "    </tr>\n",
       "    <tr>\n",
       "      <th>41</th>\n",
       "      <td>42</td>\n",
       "      <td>C</td>\n",
       "      <td>39690</td>\n",
       "    </tr>\n",
       "    <tr>\n",
       "      <th>42</th>\n",
       "      <td>43</td>\n",
       "      <td>C</td>\n",
       "      <td>41062</td>\n",
       "    </tr>\n",
       "    <tr>\n",
       "      <th>43</th>\n",
       "      <td>44</td>\n",
       "      <td>C</td>\n",
       "      <td>39910</td>\n",
       "    </tr>\n",
       "    <tr>\n",
       "      <th>44</th>\n",
       "      <td>45</td>\n",
       "      <td>B</td>\n",
       "      <td>118221</td>\n",
       "    </tr>\n",
       "  </tbody>\n",
       "</table>\n",
       "</div>"
      ],
      "text/plain": [
       "    Store Type    Size\n",
       "40     41    A  196321\n",
       "41     42    C   39690\n",
       "42     43    C   41062\n",
       "43     44    C   39910\n",
       "44     45    B  118221"
      ]
     },
     "execution_count": 5,
     "metadata": {},
     "output_type": "execute_result"
    }
   ],
   "source": [
    "stores.tail()"
   ]
  },
  {
   "cell_type": "code",
   "execution_count": 6,
   "id": "0167a9db",
   "metadata": {
    "execution": {
     "iopub.execute_input": "2025-03-18T20:52:35.603683Z",
     "iopub.status.busy": "2025-03-18T20:52:35.603374Z",
     "iopub.status.idle": "2025-03-18T20:52:35.622307Z",
     "shell.execute_reply": "2025-03-18T20:52:35.621160Z"
    },
    "papermill": {
     "duration": 0.026069,
     "end_time": "2025-03-18T20:52:35.623928",
     "exception": false,
     "start_time": "2025-03-18T20:52:35.597859",
     "status": "completed"
    },
    "tags": []
   },
   "outputs": [
    {
     "name": "stdout",
     "output_type": "stream",
     "text": [
      "<class 'pandas.core.frame.DataFrame'>\n",
      "RangeIndex: 45 entries, 0 to 44\n",
      "Data columns (total 3 columns):\n",
      " #   Column  Non-Null Count  Dtype \n",
      "---  ------  --------------  ----- \n",
      " 0   Store   45 non-null     int64 \n",
      " 1   Type    45 non-null     object\n",
      " 2   Size    45 non-null     int64 \n",
      "dtypes: int64(2), object(1)\n",
      "memory usage: 1.2+ KB\n"
     ]
    }
   ],
   "source": [
    "stores.info()"
   ]
  },
  {
   "cell_type": "code",
   "execution_count": 7,
   "id": "37b8ed55",
   "metadata": {
    "execution": {
     "iopub.execute_input": "2025-03-18T20:52:35.635503Z",
     "iopub.status.busy": "2025-03-18T20:52:35.635149Z",
     "iopub.status.idle": "2025-03-18T20:52:35.641416Z",
     "shell.execute_reply": "2025-03-18T20:52:35.640320Z"
    },
    "papermill": {
     "duration": 0.013956,
     "end_time": "2025-03-18T20:52:35.643160",
     "exception": false,
     "start_time": "2025-03-18T20:52:35.629204",
     "status": "completed"
    },
    "tags": []
   },
   "outputs": [],
   "source": [
    "def display_feature_range(df):\n",
    "    \"\"\"\n",
    "    Display the range of values for each column in a DataFrame.\n",
    "    For numeric (non-boolean) columns, prints the minimum, maximum, and range.\n",
    "    For non-numeric or boolean columns, prints the unique values.\n",
    "    \"\"\"\n",
    "    for col in df.columns:\n",
    "        print(\"=\" * 40)\n",
    "        print(f\"Feature: {col}\")\n",
    "        \n",
    "        # Check for numeric columns excluding booleans\n",
    "        if pd.api.types.is_numeric_dtype(df[col]) and not pd.api.types.is_bool_dtype(df[col]):\n",
    "            col_min = df[col].min()\n",
    "            col_max = df[col].max()\n",
    "            print(f\"Min: {col_min}\")\n",
    "            print(f\"Max: {col_max}\")\n",
    "            print(f\"Range: {col_max - col_min}\")\n",
    "        else:\n",
    "            unique_vals = df[col].unique()\n",
    "            print(\"Unique values:\", unique_vals)\n",
    "        print(\"=\" * 40, \"\\n\")"
   ]
  },
  {
   "cell_type": "code",
   "execution_count": 8,
   "id": "666a9e89",
   "metadata": {
    "execution": {
     "iopub.execute_input": "2025-03-18T20:52:35.654826Z",
     "iopub.status.busy": "2025-03-18T20:52:35.654466Z",
     "iopub.status.idle": "2025-03-18T20:52:35.664021Z",
     "shell.execute_reply": "2025-03-18T20:52:35.662917Z"
    },
    "papermill": {
     "duration": 0.017519,
     "end_time": "2025-03-18T20:52:35.665889",
     "exception": false,
     "start_time": "2025-03-18T20:52:35.648370",
     "status": "completed"
    },
    "tags": []
   },
   "outputs": [
    {
     "name": "stdout",
     "output_type": "stream",
     "text": [
      "========================================\n",
      "Feature: Store\n",
      "Min: 1\n",
      "Max: 45\n",
      "Range: 44\n",
      "======================================== \n",
      "\n",
      "========================================\n",
      "Feature: Type\n",
      "Unique values: ['A' 'B' 'C']\n",
      "======================================== \n",
      "\n",
      "========================================\n",
      "Feature: Size\n",
      "Min: 34875\n",
      "Max: 219622\n",
      "Range: 184747\n",
      "======================================== \n",
      "\n"
     ]
    }
   ],
   "source": [
    "# Call the function with the stores dataset\n",
    "display_feature_range(stores)"
   ]
  },
  {
   "cell_type": "markdown",
   "id": "b4cbb5be",
   "metadata": {
    "papermill": {
     "duration": 0.004772,
     "end_time": "2025-03-18T20:52:35.676029",
     "exception": false,
     "start_time": "2025-03-18T20:52:35.671257",
     "status": "completed"
    },
    "tags": []
   },
   "source": [
    "### Features Data"
   ]
  },
  {
   "cell_type": "code",
   "execution_count": 9,
   "id": "3ee1e823",
   "metadata": {
    "execution": {
     "iopub.execute_input": "2025-03-18T20:52:35.687387Z",
     "iopub.status.busy": "2025-03-18T20:52:35.687008Z",
     "iopub.status.idle": "2025-03-18T20:52:35.691242Z",
     "shell.execute_reply": "2025-03-18T20:52:35.690227Z"
    },
    "papermill": {
     "duration": 0.011743,
     "end_time": "2025-03-18T20:52:35.692781",
     "exception": false,
     "start_time": "2025-03-18T20:52:35.681038",
     "status": "completed"
    },
    "tags": []
   },
   "outputs": [],
   "source": [
    "import warnings\n",
    "warnings.filterwarnings(\"ignore\", category=RuntimeWarning)"
   ]
  },
  {
   "cell_type": "code",
   "execution_count": 10,
   "id": "a6ba9285",
   "metadata": {
    "execution": {
     "iopub.execute_input": "2025-03-18T20:52:35.703973Z",
     "iopub.status.busy": "2025-03-18T20:52:35.703673Z",
     "iopub.status.idle": "2025-03-18T20:52:35.719161Z",
     "shell.execute_reply": "2025-03-18T20:52:35.718179Z"
    },
    "papermill": {
     "duration": 0.022688,
     "end_time": "2025-03-18T20:52:35.720647",
     "exception": false,
     "start_time": "2025-03-18T20:52:35.697959",
     "status": "completed"
    },
    "tags": []
   },
   "outputs": [
    {
     "data": {
      "text/html": [
       "<div>\n",
       "<style scoped>\n",
       "    .dataframe tbody tr th:only-of-type {\n",
       "        vertical-align: middle;\n",
       "    }\n",
       "\n",
       "    .dataframe tbody tr th {\n",
       "        vertical-align: top;\n",
       "    }\n",
       "\n",
       "    .dataframe thead th {\n",
       "        text-align: right;\n",
       "    }\n",
       "</style>\n",
       "<table border=\"1\" class=\"dataframe\">\n",
       "  <thead>\n",
       "    <tr style=\"text-align: right;\">\n",
       "      <th></th>\n",
       "      <th>Store</th>\n",
       "      <th>Date</th>\n",
       "      <th>Temperature</th>\n",
       "      <th>Fuel_Price</th>\n",
       "      <th>MarkDown1</th>\n",
       "      <th>MarkDown2</th>\n",
       "      <th>MarkDown3</th>\n",
       "      <th>MarkDown4</th>\n",
       "      <th>MarkDown5</th>\n",
       "      <th>CPI</th>\n",
       "      <th>Unemployment</th>\n",
       "      <th>IsHoliday</th>\n",
       "    </tr>\n",
       "  </thead>\n",
       "  <tbody>\n",
       "    <tr>\n",
       "      <th>0</th>\n",
       "      <td>1</td>\n",
       "      <td>2010-02-05</td>\n",
       "      <td>42.31</td>\n",
       "      <td>2.572</td>\n",
       "      <td>NaN</td>\n",
       "      <td>NaN</td>\n",
       "      <td>NaN</td>\n",
       "      <td>NaN</td>\n",
       "      <td>NaN</td>\n",
       "      <td>211.096358</td>\n",
       "      <td>8.106</td>\n",
       "      <td>False</td>\n",
       "    </tr>\n",
       "    <tr>\n",
       "      <th>1</th>\n",
       "      <td>1</td>\n",
       "      <td>2010-02-12</td>\n",
       "      <td>38.51</td>\n",
       "      <td>2.548</td>\n",
       "      <td>NaN</td>\n",
       "      <td>NaN</td>\n",
       "      <td>NaN</td>\n",
       "      <td>NaN</td>\n",
       "      <td>NaN</td>\n",
       "      <td>211.242170</td>\n",
       "      <td>8.106</td>\n",
       "      <td>True</td>\n",
       "    </tr>\n",
       "    <tr>\n",
       "      <th>2</th>\n",
       "      <td>1</td>\n",
       "      <td>2010-02-19</td>\n",
       "      <td>39.93</td>\n",
       "      <td>2.514</td>\n",
       "      <td>NaN</td>\n",
       "      <td>NaN</td>\n",
       "      <td>NaN</td>\n",
       "      <td>NaN</td>\n",
       "      <td>NaN</td>\n",
       "      <td>211.289143</td>\n",
       "      <td>8.106</td>\n",
       "      <td>False</td>\n",
       "    </tr>\n",
       "    <tr>\n",
       "      <th>3</th>\n",
       "      <td>1</td>\n",
       "      <td>2010-02-26</td>\n",
       "      <td>46.63</td>\n",
       "      <td>2.561</td>\n",
       "      <td>NaN</td>\n",
       "      <td>NaN</td>\n",
       "      <td>NaN</td>\n",
       "      <td>NaN</td>\n",
       "      <td>NaN</td>\n",
       "      <td>211.319643</td>\n",
       "      <td>8.106</td>\n",
       "      <td>False</td>\n",
       "    </tr>\n",
       "    <tr>\n",
       "      <th>4</th>\n",
       "      <td>1</td>\n",
       "      <td>2010-03-05</td>\n",
       "      <td>46.50</td>\n",
       "      <td>2.625</td>\n",
       "      <td>NaN</td>\n",
       "      <td>NaN</td>\n",
       "      <td>NaN</td>\n",
       "      <td>NaN</td>\n",
       "      <td>NaN</td>\n",
       "      <td>211.350143</td>\n",
       "      <td>8.106</td>\n",
       "      <td>False</td>\n",
       "    </tr>\n",
       "  </tbody>\n",
       "</table>\n",
       "</div>"
      ],
      "text/plain": [
       "   Store       Date  Temperature  Fuel_Price  MarkDown1  MarkDown2  MarkDown3  \\\n",
       "0      1 2010-02-05        42.31       2.572        NaN        NaN        NaN   \n",
       "1      1 2010-02-12        38.51       2.548        NaN        NaN        NaN   \n",
       "2      1 2010-02-19        39.93       2.514        NaN        NaN        NaN   \n",
       "3      1 2010-02-26        46.63       2.561        NaN        NaN        NaN   \n",
       "4      1 2010-03-05        46.50       2.625        NaN        NaN        NaN   \n",
       "\n",
       "   MarkDown4  MarkDown5         CPI  Unemployment  IsHoliday  \n",
       "0        NaN        NaN  211.096358         8.106      False  \n",
       "1        NaN        NaN  211.242170         8.106       True  \n",
       "2        NaN        NaN  211.289143         8.106      False  \n",
       "3        NaN        NaN  211.319643         8.106      False  \n",
       "4        NaN        NaN  211.350143         8.106      False  "
      ]
     },
     "execution_count": 10,
     "metadata": {},
     "output_type": "execute_result"
    }
   ],
   "source": [
    "features.head()"
   ]
  },
  {
   "cell_type": "code",
   "execution_count": 11,
   "id": "fffc3baf",
   "metadata": {
    "execution": {
     "iopub.execute_input": "2025-03-18T20:52:35.732684Z",
     "iopub.status.busy": "2025-03-18T20:52:35.732325Z",
     "iopub.status.idle": "2025-03-18T20:52:35.747807Z",
     "shell.execute_reply": "2025-03-18T20:52:35.746764Z"
    },
    "papermill": {
     "duration": 0.023533,
     "end_time": "2025-03-18T20:52:35.749608",
     "exception": false,
     "start_time": "2025-03-18T20:52:35.726075",
     "status": "completed"
    },
    "tags": []
   },
   "outputs": [
    {
     "data": {
      "text/html": [
       "<div>\n",
       "<style scoped>\n",
       "    .dataframe tbody tr th:only-of-type {\n",
       "        vertical-align: middle;\n",
       "    }\n",
       "\n",
       "    .dataframe tbody tr th {\n",
       "        vertical-align: top;\n",
       "    }\n",
       "\n",
       "    .dataframe thead th {\n",
       "        text-align: right;\n",
       "    }\n",
       "</style>\n",
       "<table border=\"1\" class=\"dataframe\">\n",
       "  <thead>\n",
       "    <tr style=\"text-align: right;\">\n",
       "      <th></th>\n",
       "      <th>Store</th>\n",
       "      <th>Date</th>\n",
       "      <th>Temperature</th>\n",
       "      <th>Fuel_Price</th>\n",
       "      <th>MarkDown1</th>\n",
       "      <th>MarkDown2</th>\n",
       "      <th>MarkDown3</th>\n",
       "      <th>MarkDown4</th>\n",
       "      <th>MarkDown5</th>\n",
       "      <th>CPI</th>\n",
       "      <th>Unemployment</th>\n",
       "      <th>IsHoliday</th>\n",
       "    </tr>\n",
       "  </thead>\n",
       "  <tbody>\n",
       "    <tr>\n",
       "      <th>8185</th>\n",
       "      <td>45</td>\n",
       "      <td>2013-06-28</td>\n",
       "      <td>76.05</td>\n",
       "      <td>3.639</td>\n",
       "      <td>4842.29</td>\n",
       "      <td>975.03</td>\n",
       "      <td>3.00</td>\n",
       "      <td>2449.97</td>\n",
       "      <td>3169.69</td>\n",
       "      <td>NaN</td>\n",
       "      <td>NaN</td>\n",
       "      <td>False</td>\n",
       "    </tr>\n",
       "    <tr>\n",
       "      <th>8186</th>\n",
       "      <td>45</td>\n",
       "      <td>2013-07-05</td>\n",
       "      <td>77.50</td>\n",
       "      <td>3.614</td>\n",
       "      <td>9090.48</td>\n",
       "      <td>2268.58</td>\n",
       "      <td>582.74</td>\n",
       "      <td>5797.47</td>\n",
       "      <td>1514.93</td>\n",
       "      <td>NaN</td>\n",
       "      <td>NaN</td>\n",
       "      <td>False</td>\n",
       "    </tr>\n",
       "    <tr>\n",
       "      <th>8187</th>\n",
       "      <td>45</td>\n",
       "      <td>2013-07-12</td>\n",
       "      <td>79.37</td>\n",
       "      <td>3.614</td>\n",
       "      <td>3789.94</td>\n",
       "      <td>1827.31</td>\n",
       "      <td>85.72</td>\n",
       "      <td>744.84</td>\n",
       "      <td>2150.36</td>\n",
       "      <td>NaN</td>\n",
       "      <td>NaN</td>\n",
       "      <td>False</td>\n",
       "    </tr>\n",
       "    <tr>\n",
       "      <th>8188</th>\n",
       "      <td>45</td>\n",
       "      <td>2013-07-19</td>\n",
       "      <td>82.84</td>\n",
       "      <td>3.737</td>\n",
       "      <td>2961.49</td>\n",
       "      <td>1047.07</td>\n",
       "      <td>204.19</td>\n",
       "      <td>363.00</td>\n",
       "      <td>1059.46</td>\n",
       "      <td>NaN</td>\n",
       "      <td>NaN</td>\n",
       "      <td>False</td>\n",
       "    </tr>\n",
       "    <tr>\n",
       "      <th>8189</th>\n",
       "      <td>45</td>\n",
       "      <td>2013-07-26</td>\n",
       "      <td>76.06</td>\n",
       "      <td>3.804</td>\n",
       "      <td>212.02</td>\n",
       "      <td>851.73</td>\n",
       "      <td>2.06</td>\n",
       "      <td>10.88</td>\n",
       "      <td>1864.57</td>\n",
       "      <td>NaN</td>\n",
       "      <td>NaN</td>\n",
       "      <td>False</td>\n",
       "    </tr>\n",
       "  </tbody>\n",
       "</table>\n",
       "</div>"
      ],
      "text/plain": [
       "      Store       Date  Temperature  Fuel_Price  MarkDown1  MarkDown2  \\\n",
       "8185     45 2013-06-28        76.05       3.639    4842.29     975.03   \n",
       "8186     45 2013-07-05        77.50       3.614    9090.48    2268.58   \n",
       "8187     45 2013-07-12        79.37       3.614    3789.94    1827.31   \n",
       "8188     45 2013-07-19        82.84       3.737    2961.49    1047.07   \n",
       "8189     45 2013-07-26        76.06       3.804     212.02     851.73   \n",
       "\n",
       "      MarkDown3  MarkDown4  MarkDown5  CPI  Unemployment  IsHoliday  \n",
       "8185       3.00    2449.97    3169.69  NaN           NaN      False  \n",
       "8186     582.74    5797.47    1514.93  NaN           NaN      False  \n",
       "8187      85.72     744.84    2150.36  NaN           NaN      False  \n",
       "8188     204.19     363.00    1059.46  NaN           NaN      False  \n",
       "8189       2.06      10.88    1864.57  NaN           NaN      False  "
      ]
     },
     "execution_count": 11,
     "metadata": {},
     "output_type": "execute_result"
    }
   ],
   "source": [
    "features.tail()"
   ]
  },
  {
   "cell_type": "code",
   "execution_count": 12,
   "id": "a54346b2",
   "metadata": {
    "execution": {
     "iopub.execute_input": "2025-03-18T20:52:35.762184Z",
     "iopub.status.busy": "2025-03-18T20:52:35.761781Z",
     "iopub.status.idle": "2025-03-18T20:52:35.772857Z",
     "shell.execute_reply": "2025-03-18T20:52:35.771679Z"
    },
    "papermill": {
     "duration": 0.019173,
     "end_time": "2025-03-18T20:52:35.774543",
     "exception": false,
     "start_time": "2025-03-18T20:52:35.755370",
     "status": "completed"
    },
    "tags": []
   },
   "outputs": [
    {
     "name": "stdout",
     "output_type": "stream",
     "text": [
      "<class 'pandas.core.frame.DataFrame'>\n",
      "RangeIndex: 8190 entries, 0 to 8189\n",
      "Data columns (total 12 columns):\n",
      " #   Column        Non-Null Count  Dtype         \n",
      "---  ------        --------------  -----         \n",
      " 0   Store         8190 non-null   int64         \n",
      " 1   Date          8190 non-null   datetime64[ns]\n",
      " 2   Temperature   8190 non-null   float64       \n",
      " 3   Fuel_Price    8190 non-null   float64       \n",
      " 4   MarkDown1     4032 non-null   float64       \n",
      " 5   MarkDown2     2921 non-null   float64       \n",
      " 6   MarkDown3     3613 non-null   float64       \n",
      " 7   MarkDown4     3464 non-null   float64       \n",
      " 8   MarkDown5     4050 non-null   float64       \n",
      " 9   CPI           7605 non-null   float64       \n",
      " 10  Unemployment  7605 non-null   float64       \n",
      " 11  IsHoliday     8190 non-null   bool          \n",
      "dtypes: bool(1), datetime64[ns](1), float64(9), int64(1)\n",
      "memory usage: 712.0 KB\n"
     ]
    }
   ],
   "source": [
    "features.info()"
   ]
  },
  {
   "cell_type": "code",
   "execution_count": 13,
   "id": "414de348",
   "metadata": {
    "execution": {
     "iopub.execute_input": "2025-03-18T20:52:35.787577Z",
     "iopub.status.busy": "2025-03-18T20:52:35.787212Z",
     "iopub.status.idle": "2025-03-18T20:52:35.802412Z",
     "shell.execute_reply": "2025-03-18T20:52:35.801213Z"
    },
    "papermill": {
     "duration": 0.023676,
     "end_time": "2025-03-18T20:52:35.804089",
     "exception": false,
     "start_time": "2025-03-18T20:52:35.780413",
     "status": "completed"
    },
    "tags": []
   },
   "outputs": [
    {
     "name": "stdout",
     "output_type": "stream",
     "text": [
      "<class 'pandas.core.frame.DataFrame'>\n",
      "RangeIndex: 8190 entries, 0 to 8189\n",
      "Data columns (total 12 columns):\n",
      " #   Column        Non-Null Count  Dtype         \n",
      "---  ------        --------------  -----         \n",
      " 0   Store         8190 non-null   int64         \n",
      " 1   Date          8190 non-null   datetime64[ns]\n",
      " 2   Temperature   8190 non-null   float64       \n",
      " 3   Fuel_Price    8190 non-null   float64       \n",
      " 4   MarkDown1     8190 non-null   float64       \n",
      " 5   MarkDown2     8190 non-null   float64       \n",
      " 6   MarkDown3     8190 non-null   float64       \n",
      " 7   MarkDown4     8190 non-null   float64       \n",
      " 8   MarkDown5     8190 non-null   float64       \n",
      " 9   CPI           7605 non-null   float64       \n",
      " 10  Unemployment  7605 non-null   float64       \n",
      " 11  IsHoliday     8190 non-null   bool          \n",
      "dtypes: bool(1), datetime64[ns](1), float64(9), int64(1)\n",
      "memory usage: 712.0 KB\n"
     ]
    }
   ],
   "source": [
    "# Define the list of MarkDown columns\n",
    "markdown_cols = [\"MarkDown1\", \"MarkDown2\", \"MarkDown3\", \"MarkDown4\", \"MarkDown5\"]\n",
    "\n",
    "# Fill missing values in the MarkDown columns with 0\n",
    "features[markdown_cols] = features[markdown_cols].fillna(0)\n",
    "\n",
    "# Optionally, display info to verify that missing values have been filled\n",
    "features.info()"
   ]
  },
  {
   "cell_type": "code",
   "execution_count": 14,
   "id": "5c30ce3a",
   "metadata": {
    "execution": {
     "iopub.execute_input": "2025-03-18T20:52:35.817097Z",
     "iopub.status.busy": "2025-03-18T20:52:35.816695Z",
     "iopub.status.idle": "2025-03-18T20:52:35.822981Z",
     "shell.execute_reply": "2025-03-18T20:52:35.822117Z"
    },
    "papermill": {
     "duration": 0.014447,
     "end_time": "2025-03-18T20:52:35.824483",
     "exception": false,
     "start_time": "2025-03-18T20:52:35.810036",
     "status": "completed"
    },
    "tags": []
   },
   "outputs": [
    {
     "name": "stdout",
     "output_type": "stream",
     "text": [
      "CPI and Unemployment have the exact same missing value pattern.\n"
     ]
    }
   ],
   "source": [
    "# Create boolean masks where True indicates a missing value\n",
    "mask_cpi = features['CPI'].isna()\n",
    "mask_unemployment = features['Unemployment'].isna()\n",
    "\n",
    "# Check if both masks are exactly the same\n",
    "if mask_cpi.equals(mask_unemployment):\n",
    "    print(\"CPI and Unemployment have the exact same missing value pattern.\")\n",
    "else:\n",
    "    print(\"CPI and Unemployment have different missing value patterns.\")"
   ]
  },
  {
   "cell_type": "code",
   "execution_count": 15,
   "id": "c9385c8c",
   "metadata": {
    "execution": {
     "iopub.execute_input": "2025-03-18T20:52:35.837822Z",
     "iopub.status.busy": "2025-03-18T20:52:35.837457Z",
     "iopub.status.idle": "2025-03-18T20:52:35.860880Z",
     "shell.execute_reply": "2025-03-18T20:52:35.859648Z"
    },
    "papermill": {
     "duration": 0.032414,
     "end_time": "2025-03-18T20:52:35.862911",
     "exception": false,
     "start_time": "2025-03-18T20:52:35.830497",
     "status": "completed"
    },
    "tags": []
   },
   "outputs": [
    {
     "name": "stdout",
     "output_type": "stream",
     "text": [
      "     Store       Date  Temperature  Fuel_Price  MarkDown1  MarkDown2  \\\n",
      "169      1 2013-05-03        66.66       3.386    2298.63       2.00   \n",
      "170      1 2013-05-10        63.90       3.392    4624.61      83.88   \n",
      "171      1 2013-05-17        69.53       3.454   16170.50      92.00   \n",
      "172      1 2013-05-24        77.19       3.494    7959.89     178.00   \n",
      "173      1 2013-05-31        78.02       3.466    2369.77     142.45   \n",
      "\n",
      "     MarkDown3  MarkDown4  MarkDown5  CPI  Unemployment  IsHoliday  \n",
      "169     129.90      55.46    1301.04  NaN           NaN      False  \n",
      "170      42.38    1618.31    8144.90  NaN           NaN      False  \n",
      "171       8.32    4127.24    6206.97  NaN           NaN      False  \n",
      "172    1621.47    3152.57    2938.70  NaN           NaN      False  \n",
      "173     475.35      45.55    2056.84  NaN           NaN      False  \n"
     ]
    }
   ],
   "source": [
    "# Rows where CPI  is missing\n",
    "missing_mask = features['CPI'].isna() \n",
    "missing_rows = features[missing_mask]\n",
    "print(missing_rows.head())\n",
    "missing_rows.to_csv(\"missing rows.csv\", index=False)\n"
   ]
  },
  {
   "cell_type": "code",
   "execution_count": 16,
   "id": "98417742",
   "metadata": {
    "execution": {
     "iopub.execute_input": "2025-03-18T20:52:35.876781Z",
     "iopub.status.busy": "2025-03-18T20:52:35.876460Z",
     "iopub.status.idle": "2025-03-18T20:52:35.885332Z",
     "shell.execute_reply": "2025-03-18T20:52:35.884155Z"
    },
    "papermill": {
     "duration": 0.017615,
     "end_time": "2025-03-18T20:52:35.886967",
     "exception": false,
     "start_time": "2025-03-18T20:52:35.869352",
     "status": "completed"
    },
    "tags": []
   },
   "outputs": [
    {
     "name": "stdout",
     "output_type": "stream",
     "text": [
      "Unique Dates with missing CPI or Unemployment values:\n",
      "<DatetimeArray>\n",
      "['2013-05-03 00:00:00', '2013-05-10 00:00:00', '2013-05-17 00:00:00',\n",
      " '2013-05-24 00:00:00', '2013-05-31 00:00:00', '2013-06-07 00:00:00',\n",
      " '2013-06-14 00:00:00', '2013-06-21 00:00:00', '2013-06-28 00:00:00',\n",
      " '2013-07-05 00:00:00', '2013-07-12 00:00:00', '2013-07-19 00:00:00',\n",
      " '2013-07-26 00:00:00']\n",
      "Length: 13, dtype: datetime64[ns]\n"
     ]
    }
   ],
   "source": [
    "# Filter for rows where either CPI or Unemployment is missing\n",
    "missing_rows = features[features['CPI'].isna() | features['Unemployment'].isna()]\n",
    "\n",
    "# Get unique Dates from the missing_rows DataFrame\n",
    "unique_dates = missing_rows['Date'].unique()\n",
    "print(\"Unique Dates with missing CPI or Unemployment values:\")\n",
    "print(unique_dates)"
   ]
  },
  {
   "cell_type": "code",
   "execution_count": 17,
   "id": "5feb64f4",
   "metadata": {
    "execution": {
     "iopub.execute_input": "2025-03-18T20:52:35.900941Z",
     "iopub.status.busy": "2025-03-18T20:52:35.900602Z",
     "iopub.status.idle": "2025-03-18T20:52:35.920796Z",
     "shell.execute_reply": "2025-03-18T20:52:35.919344Z"
    },
    "papermill": {
     "duration": 0.029217,
     "end_time": "2025-03-18T20:52:35.922657",
     "exception": false,
     "start_time": "2025-03-18T20:52:35.893440",
     "status": "completed"
    },
    "tags": []
   },
   "outputs": [
    {
     "name": "stdout",
     "output_type": "stream",
     "text": [
      "========================================\n",
      "Feature: Store\n",
      "Min: 1\n",
      "Max: 45\n",
      "Range: 44\n",
      "======================================== \n",
      "\n",
      "========================================\n",
      "Feature: Date\n",
      "Unique values: <DatetimeArray>\n",
      "['2010-02-05 00:00:00', '2010-02-12 00:00:00', '2010-02-19 00:00:00',\n",
      " '2010-02-26 00:00:00', '2010-03-05 00:00:00', '2010-03-12 00:00:00',\n",
      " '2010-03-19 00:00:00', '2010-03-26 00:00:00', '2010-04-02 00:00:00',\n",
      " '2010-04-09 00:00:00',\n",
      " ...\n",
      " '2013-05-24 00:00:00', '2013-05-31 00:00:00', '2013-06-07 00:00:00',\n",
      " '2013-06-14 00:00:00', '2013-06-21 00:00:00', '2013-06-28 00:00:00',\n",
      " '2013-07-05 00:00:00', '2013-07-12 00:00:00', '2013-07-19 00:00:00',\n",
      " '2013-07-26 00:00:00']\n",
      "Length: 182, dtype: datetime64[ns]\n",
      "======================================== \n",
      "\n",
      "========================================\n",
      "Feature: Temperature\n",
      "Min: -7.29\n",
      "Max: 101.95\n",
      "Range: 109.24000000000001\n",
      "======================================== \n",
      "\n",
      "========================================\n",
      "Feature: Fuel_Price\n",
      "Min: 2.472\n",
      "Max: 4.468\n",
      "Range: 1.996\n",
      "======================================== \n",
      "\n",
      "========================================\n",
      "Feature: MarkDown1\n",
      "Min: -2781.45\n",
      "Max: 103184.98\n",
      "Range: 105966.43\n",
      "======================================== \n",
      "\n",
      "========================================\n",
      "Feature: MarkDown2\n",
      "Min: -265.76\n",
      "Max: 104519.54\n",
      "Range: 104785.29999999999\n",
      "======================================== \n",
      "\n",
      "========================================\n",
      "Feature: MarkDown3\n",
      "Min: -179.26\n",
      "Max: 149483.31\n",
      "Range: 149662.57\n",
      "======================================== \n",
      "\n",
      "========================================\n",
      "Feature: MarkDown4\n",
      "Min: 0.0\n",
      "Max: 67474.85\n",
      "Range: 67474.85\n",
      "======================================== \n",
      "\n",
      "========================================\n",
      "Feature: MarkDown5\n",
      "Min: -185.17\n",
      "Max: 771448.1\n",
      "Range: 771633.27\n",
      "======================================== \n",
      "\n",
      "========================================\n",
      "Feature: CPI\n",
      "Min: 126.064\n",
      "Max: 228.9764563\n",
      "Range: 102.9124563\n",
      "======================================== \n",
      "\n",
      "========================================\n",
      "Feature: Unemployment\n",
      "Min: 3.684\n",
      "Max: 14.313\n",
      "Range: 10.629000000000001\n",
      "======================================== \n",
      "\n",
      "========================================\n",
      "Feature: IsHoliday\n",
      "Unique values: [False  True]\n",
      "======================================== \n",
      "\n"
     ]
    }
   ],
   "source": [
    "display_feature_range(features)"
   ]
  },
  {
   "cell_type": "markdown",
   "id": "6a55c2cc",
   "metadata": {
    "papermill": {
     "duration": 0.006737,
     "end_time": "2025-03-18T20:52:35.935925",
     "exception": false,
     "start_time": "2025-03-18T20:52:35.929188",
     "status": "completed"
    },
    "tags": []
   },
   "source": [
    "### Train/Test Data"
   ]
  },
  {
   "cell_type": "code",
   "execution_count": 18,
   "id": "296019e3",
   "metadata": {
    "execution": {
     "iopub.execute_input": "2025-03-18T20:52:35.950272Z",
     "iopub.status.busy": "2025-03-18T20:52:35.949836Z",
     "iopub.status.idle": "2025-03-18T20:52:35.960275Z",
     "shell.execute_reply": "2025-03-18T20:52:35.959114Z"
    },
    "papermill": {
     "duration": 0.019559,
     "end_time": "2025-03-18T20:52:35.961936",
     "exception": false,
     "start_time": "2025-03-18T20:52:35.942377",
     "status": "completed"
    },
    "tags": []
   },
   "outputs": [
    {
     "data": {
      "text/html": [
       "<div>\n",
       "<style scoped>\n",
       "    .dataframe tbody tr th:only-of-type {\n",
       "        vertical-align: middle;\n",
       "    }\n",
       "\n",
       "    .dataframe tbody tr th {\n",
       "        vertical-align: top;\n",
       "    }\n",
       "\n",
       "    .dataframe thead th {\n",
       "        text-align: right;\n",
       "    }\n",
       "</style>\n",
       "<table border=\"1\" class=\"dataframe\">\n",
       "  <thead>\n",
       "    <tr style=\"text-align: right;\">\n",
       "      <th></th>\n",
       "      <th>Store</th>\n",
       "      <th>Dept</th>\n",
       "      <th>Date</th>\n",
       "      <th>Weekly_Sales</th>\n",
       "      <th>IsHoliday</th>\n",
       "    </tr>\n",
       "  </thead>\n",
       "  <tbody>\n",
       "    <tr>\n",
       "      <th>0</th>\n",
       "      <td>1</td>\n",
       "      <td>1</td>\n",
       "      <td>2010-02-05</td>\n",
       "      <td>24924.50</td>\n",
       "      <td>False</td>\n",
       "    </tr>\n",
       "    <tr>\n",
       "      <th>1</th>\n",
       "      <td>1</td>\n",
       "      <td>1</td>\n",
       "      <td>2010-02-12</td>\n",
       "      <td>46039.49</td>\n",
       "      <td>True</td>\n",
       "    </tr>\n",
       "    <tr>\n",
       "      <th>2</th>\n",
       "      <td>1</td>\n",
       "      <td>1</td>\n",
       "      <td>2010-02-19</td>\n",
       "      <td>41595.55</td>\n",
       "      <td>False</td>\n",
       "    </tr>\n",
       "    <tr>\n",
       "      <th>3</th>\n",
       "      <td>1</td>\n",
       "      <td>1</td>\n",
       "      <td>2010-02-26</td>\n",
       "      <td>19403.54</td>\n",
       "      <td>False</td>\n",
       "    </tr>\n",
       "    <tr>\n",
       "      <th>4</th>\n",
       "      <td>1</td>\n",
       "      <td>1</td>\n",
       "      <td>2010-03-05</td>\n",
       "      <td>21827.90</td>\n",
       "      <td>False</td>\n",
       "    </tr>\n",
       "  </tbody>\n",
       "</table>\n",
       "</div>"
      ],
      "text/plain": [
       "   Store  Dept       Date  Weekly_Sales  IsHoliday\n",
       "0      1     1 2010-02-05      24924.50      False\n",
       "1      1     1 2010-02-12      46039.49       True\n",
       "2      1     1 2010-02-19      41595.55      False\n",
       "3      1     1 2010-02-26      19403.54      False\n",
       "4      1     1 2010-03-05      21827.90      False"
      ]
     },
     "execution_count": 18,
     "metadata": {},
     "output_type": "execute_result"
    }
   ],
   "source": [
    "train.head()"
   ]
  },
  {
   "cell_type": "code",
   "execution_count": 19,
   "id": "d248fe9f",
   "metadata": {
    "execution": {
     "iopub.execute_input": "2025-03-18T20:52:35.977022Z",
     "iopub.status.busy": "2025-03-18T20:52:35.976609Z",
     "iopub.status.idle": "2025-03-18T20:52:35.987313Z",
     "shell.execute_reply": "2025-03-18T20:52:35.986260Z"
    },
    "papermill": {
     "duration": 0.019927,
     "end_time": "2025-03-18T20:52:35.988849",
     "exception": false,
     "start_time": "2025-03-18T20:52:35.968922",
     "status": "completed"
    },
    "tags": []
   },
   "outputs": [
    {
     "data": {
      "text/html": [
       "<div>\n",
       "<style scoped>\n",
       "    .dataframe tbody tr th:only-of-type {\n",
       "        vertical-align: middle;\n",
       "    }\n",
       "\n",
       "    .dataframe tbody tr th {\n",
       "        vertical-align: top;\n",
       "    }\n",
       "\n",
       "    .dataframe thead th {\n",
       "        text-align: right;\n",
       "    }\n",
       "</style>\n",
       "<table border=\"1\" class=\"dataframe\">\n",
       "  <thead>\n",
       "    <tr style=\"text-align: right;\">\n",
       "      <th></th>\n",
       "      <th>Store</th>\n",
       "      <th>Dept</th>\n",
       "      <th>Date</th>\n",
       "      <th>Weekly_Sales</th>\n",
       "      <th>IsHoliday</th>\n",
       "    </tr>\n",
       "  </thead>\n",
       "  <tbody>\n",
       "    <tr>\n",
       "      <th>421565</th>\n",
       "      <td>45</td>\n",
       "      <td>98</td>\n",
       "      <td>2012-09-28</td>\n",
       "      <td>508.37</td>\n",
       "      <td>False</td>\n",
       "    </tr>\n",
       "    <tr>\n",
       "      <th>421566</th>\n",
       "      <td>45</td>\n",
       "      <td>98</td>\n",
       "      <td>2012-10-05</td>\n",
       "      <td>628.10</td>\n",
       "      <td>False</td>\n",
       "    </tr>\n",
       "    <tr>\n",
       "      <th>421567</th>\n",
       "      <td>45</td>\n",
       "      <td>98</td>\n",
       "      <td>2012-10-12</td>\n",
       "      <td>1061.02</td>\n",
       "      <td>False</td>\n",
       "    </tr>\n",
       "    <tr>\n",
       "      <th>421568</th>\n",
       "      <td>45</td>\n",
       "      <td>98</td>\n",
       "      <td>2012-10-19</td>\n",
       "      <td>760.01</td>\n",
       "      <td>False</td>\n",
       "    </tr>\n",
       "    <tr>\n",
       "      <th>421569</th>\n",
       "      <td>45</td>\n",
       "      <td>98</td>\n",
       "      <td>2012-10-26</td>\n",
       "      <td>1076.80</td>\n",
       "      <td>False</td>\n",
       "    </tr>\n",
       "  </tbody>\n",
       "</table>\n",
       "</div>"
      ],
      "text/plain": [
       "        Store  Dept       Date  Weekly_Sales  IsHoliday\n",
       "421565     45    98 2012-09-28        508.37      False\n",
       "421566     45    98 2012-10-05        628.10      False\n",
       "421567     45    98 2012-10-12       1061.02      False\n",
       "421568     45    98 2012-10-19        760.01      False\n",
       "421569     45    98 2012-10-26       1076.80      False"
      ]
     },
     "execution_count": 19,
     "metadata": {},
     "output_type": "execute_result"
    }
   ],
   "source": [
    "train.tail()"
   ]
  },
  {
   "cell_type": "code",
   "execution_count": 20,
   "id": "cb8d2a0f",
   "metadata": {
    "execution": {
     "iopub.execute_input": "2025-03-18T20:52:36.004180Z",
     "iopub.status.busy": "2025-03-18T20:52:36.003764Z",
     "iopub.status.idle": "2025-03-18T20:52:36.025136Z",
     "shell.execute_reply": "2025-03-18T20:52:36.023924Z"
    },
    "papermill": {
     "duration": 0.031096,
     "end_time": "2025-03-18T20:52:36.026963",
     "exception": false,
     "start_time": "2025-03-18T20:52:35.995867",
     "status": "completed"
    },
    "tags": []
   },
   "outputs": [
    {
     "name": "stdout",
     "output_type": "stream",
     "text": [
      "<class 'pandas.core.frame.DataFrame'>\n",
      "RangeIndex: 421570 entries, 0 to 421569\n",
      "Data columns (total 5 columns):\n",
      " #   Column        Non-Null Count   Dtype         \n",
      "---  ------        --------------   -----         \n",
      " 0   Store         421570 non-null  int64         \n",
      " 1   Dept          421570 non-null  int64         \n",
      " 2   Date          421570 non-null  datetime64[ns]\n",
      " 3   Weekly_Sales  421570 non-null  float64       \n",
      " 4   IsHoliday     421570 non-null  bool          \n",
      "dtypes: bool(1), datetime64[ns](1), float64(1), int64(2)\n",
      "memory usage: 13.3 MB\n"
     ]
    }
   ],
   "source": [
    "train.info()"
   ]
  },
  {
   "cell_type": "code",
   "execution_count": 21,
   "id": "3343b169",
   "metadata": {
    "execution": {
     "iopub.execute_input": "2025-03-18T20:52:36.042252Z",
     "iopub.status.busy": "2025-03-18T20:52:36.041848Z",
     "iopub.status.idle": "2025-03-18T20:52:36.053284Z",
     "shell.execute_reply": "2025-03-18T20:52:36.052030Z"
    },
    "papermill": {
     "duration": 0.020974,
     "end_time": "2025-03-18T20:52:36.054946",
     "exception": false,
     "start_time": "2025-03-18T20:52:36.033972",
     "status": "completed"
    },
    "tags": []
   },
   "outputs": [
    {
     "name": "stdout",
     "output_type": "stream",
     "text": [
      "<class 'pandas.core.frame.DataFrame'>\n",
      "RangeIndex: 115064 entries, 0 to 115063\n",
      "Data columns (total 4 columns):\n",
      " #   Column     Non-Null Count   Dtype         \n",
      "---  ------     --------------   -----         \n",
      " 0   Store      115064 non-null  int64         \n",
      " 1   Dept       115064 non-null  int64         \n",
      " 2   Date       115064 non-null  datetime64[ns]\n",
      " 3   IsHoliday  115064 non-null  bool          \n",
      "dtypes: bool(1), datetime64[ns](1), int64(2)\n",
      "memory usage: 2.7 MB\n"
     ]
    }
   ],
   "source": [
    "test.info()"
   ]
  },
  {
   "cell_type": "code",
   "execution_count": 22,
   "id": "d07bf39a",
   "metadata": {
    "execution": {
     "iopub.execute_input": "2025-03-18T20:52:36.070579Z",
     "iopub.status.busy": "2025-03-18T20:52:36.070212Z",
     "iopub.status.idle": "2025-03-18T20:52:36.093109Z",
     "shell.execute_reply": "2025-03-18T20:52:36.091936Z"
    },
    "papermill": {
     "duration": 0.032529,
     "end_time": "2025-03-18T20:52:36.094746",
     "exception": false,
     "start_time": "2025-03-18T20:52:36.062217",
     "status": "completed"
    },
    "tags": []
   },
   "outputs": [
    {
     "name": "stdout",
     "output_type": "stream",
     "text": [
      "========================================\n",
      "Feature: Store\n",
      "Min: 1\n",
      "Max: 45\n",
      "Range: 44\n",
      "======================================== \n",
      "\n",
      "========================================\n",
      "Feature: Dept\n",
      "Min: 1\n",
      "Max: 99\n",
      "Range: 98\n",
      "======================================== \n",
      "\n",
      "========================================\n",
      "Feature: Date\n",
      "Unique values: <DatetimeArray>\n",
      "['2010-02-05 00:00:00', '2010-02-12 00:00:00', '2010-02-19 00:00:00',\n",
      " '2010-02-26 00:00:00', '2010-03-05 00:00:00', '2010-03-12 00:00:00',\n",
      " '2010-03-19 00:00:00', '2010-03-26 00:00:00', '2010-04-02 00:00:00',\n",
      " '2010-04-09 00:00:00',\n",
      " ...\n",
      " '2012-08-24 00:00:00', '2012-08-31 00:00:00', '2012-09-07 00:00:00',\n",
      " '2012-09-14 00:00:00', '2012-09-21 00:00:00', '2012-09-28 00:00:00',\n",
      " '2012-10-05 00:00:00', '2012-10-12 00:00:00', '2012-10-19 00:00:00',\n",
      " '2012-10-26 00:00:00']\n",
      "Length: 143, dtype: datetime64[ns]\n",
      "======================================== \n",
      "\n",
      "========================================\n",
      "Feature: Weekly_Sales\n",
      "Min: -4988.94\n",
      "Max: 693099.36\n",
      "Range: 698088.2999999999\n",
      "======================================== \n",
      "\n",
      "========================================\n",
      "Feature: IsHoliday\n",
      "Unique values: [False  True]\n",
      "======================================== \n",
      "\n"
     ]
    }
   ],
   "source": [
    "display_feature_range(train)"
   ]
  },
  {
   "cell_type": "code",
   "execution_count": null,
   "id": "07364f59",
   "metadata": {
    "papermill": {
     "duration": 0.007029,
     "end_time": "2025-03-18T20:52:36.109034",
     "exception": false,
     "start_time": "2025-03-18T20:52:36.102005",
     "status": "completed"
    },
    "tags": []
   },
   "outputs": [],
   "source": []
  }
 ],
 "metadata": {
  "kaggle": {
   "accelerator": "none",
   "dataSources": [
    {
     "datasetId": 2107830,
     "sourceId": 3502310,
     "sourceType": "datasetVersion"
    }
   ],
   "dockerImageVersionId": 30918,
   "isGpuEnabled": false,
   "isInternetEnabled": true,
   "language": "python",
   "sourceType": "notebook"
  },
  "kernelspec": {
   "display_name": "Python 3",
   "language": "python",
   "name": "python3"
  },
  "language_info": {
   "codemirror_mode": {
    "name": "ipython",
    "version": 3
   },
   "file_extension": ".py",
   "mimetype": "text/x-python",
   "name": "python",
   "nbconvert_exporter": "python",
   "pygments_lexer": "ipython3",
   "version": "3.10.12"
  },
  "papermill": {
   "default_parameters": {},
   "duration": 5.220928,
   "end_time": "2025-03-18T20:52:36.635713",
   "environment_variables": {},
   "exception": null,
   "input_path": "__notebook__.ipynb",
   "output_path": "__notebook__.ipynb",
   "parameters": {},
   "start_time": "2025-03-18T20:52:31.414785",
   "version": "2.6.0"
  }
 },
 "nbformat": 4,
 "nbformat_minor": 5
}
