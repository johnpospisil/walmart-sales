{
 "cells": [
  {
   "cell_type": "markdown",
   "id": "8284fc4d",
   "metadata": {
    "papermill": {
     "duration": 0.008249,
     "end_time": "2025-03-19T18:53:50.504740",
     "exception": false,
     "start_time": "2025-03-19T18:53:50.496491",
     "status": "completed"
    },
    "tags": []
   },
   "source": [
    "# Forecasting Walmart Sales"
   ]
  },
  {
   "cell_type": "markdown",
   "id": "7effeff7",
   "metadata": {
    "papermill": {
     "duration": 0.009558,
     "end_time": "2025-03-19T18:53:50.522107",
     "exception": false,
     "start_time": "2025-03-19T18:53:50.512549",
     "status": "completed"
    },
    "tags": []
   },
   "source": [
    "### **Table of Contents**\n",
    "* [<span style=\"color:#A690A4\"> 0. Executive Summary](#exe_sum)\n",
    "* [<span style=\"color:#A690A4\"> 1. Introduction](#intro)\n",
    "* [<span style=\"color:#A690A4\"> 2. Collect, Wrangle & Explore](#process)\n",
    "* [<span style=\"color:#A690A4\"> 3. Forecast Sales](#predict)\n",
    "* [<span style=\"color:#A690A4\"> 4. Conclusion](#conclusion)"
   ]
  },
  {
   "cell_type": "markdown",
   "id": "d7f38776",
   "metadata": {
    "papermill": {
     "duration": 0.007596,
     "end_time": "2025-03-19T18:53:50.537359",
     "exception": false,
     "start_time": "2025-03-19T18:53:50.529763",
     "status": "completed"
    },
    "tags": []
   },
   "source": [
    "# <span style=\"color:#5E6997\">Executive Summary</span> <a class=\"anchor\" id=\"exe_sum\"></a>"
   ]
  },
  {
   "cell_type": "markdown",
   "id": "9f5d95c6",
   "metadata": {
    "papermill": {
     "duration": 0.009532,
     "end_time": "2025-03-19T18:53:50.554550",
     "exception": false,
     "start_time": "2025-03-19T18:53:50.545018",
     "status": "completed"
    },
    "tags": []
   },
   "source": [
    "# <span style=\"color:#5E6997\">Introduction</span> <a class=\"anchor\" id=\"intro\"></a>"
   ]
  },
  {
   "cell_type": "markdown",
   "id": "86f098ae",
   "metadata": {
    "papermill": {
     "duration": 0.007985,
     "end_time": "2025-03-19T18:53:50.571768",
     "exception": false,
     "start_time": "2025-03-19T18:53:50.563783",
     "status": "completed"
    },
    "tags": []
   },
   "source": [
    "# <span style=\"color:#5E6997\">Collect, Wrangle, and Explore</span> <a class=\"anchor\" id=\"process\"></a>"
   ]
  },
  {
   "cell_type": "code",
   "execution_count": 1,
   "id": "070b7df2",
   "metadata": {
    "_cell_guid": "b1076dfc-b9ad-4769-8c92-a6c4dae69d19",
    "_uuid": "8f2839f25d086af736a60e9eeb907d3b93b6e0e5",
    "execution": {
     "iopub.execute_input": "2025-03-19T18:53:50.589011Z",
     "iopub.status.busy": "2025-03-19T18:53:50.588518Z",
     "iopub.status.idle": "2025-03-19T18:53:51.724069Z",
     "shell.execute_reply": "2025-03-19T18:53:51.722698Z"
    },
    "papermill": {
     "duration": 1.146225,
     "end_time": "2025-03-19T18:53:51.725944",
     "exception": false,
     "start_time": "2025-03-19T18:53:50.579719",
     "status": "completed"
    },
    "tags": []
   },
   "outputs": [
    {
     "name": "stdout",
     "output_type": "stream",
     "text": [
      "/kaggle/input/walmart-sales-forecast/features.csv\n",
      "/kaggle/input/walmart-sales-forecast/stores.csv\n",
      "/kaggle/input/walmart-sales-forecast/train.csv\n",
      "/kaggle/input/walmart-sales-forecast/test.csv\n"
     ]
    }
   ],
   "source": [
    "# This Python 3 environment comes with many helpful analytics libraries installed\n",
    "# It is defined by the kaggle/python Docker image: https://github.com/kaggle/docker-python\n",
    "# For example, here's several helpful packages to load\n",
    "\n",
    "import numpy as np # linear algebra\n",
    "import pandas as pd # data processing, CSV file I/O (e.g. pd.read_csv)\n",
    "\n",
    "# Input data files are available in the read-only \"../input/\" directory\n",
    "# For example, running this (by clicking run or pressing Shift+Enter) will list all files under the input directory\n",
    "\n",
    "import os\n",
    "for dirname, _, filenames in os.walk('/kaggle/input'):\n",
    "    for filename in filenames:\n",
    "        print(os.path.join(dirname, filename))\n",
    "\n",
    "# You can write up to 20GB to the current directory (/kaggle/working/) that gets preserved as output when you create a version using \"Save & Run All\" \n",
    "# You can also write temporary files to /kaggle/temp/, but they won't be saved outside of the current session"
   ]
  },
  {
   "cell_type": "code",
   "execution_count": 2,
   "id": "de7c156b",
   "metadata": {
    "execution": {
     "iopub.execute_input": "2025-03-19T18:53:51.743289Z",
     "iopub.status.busy": "2025-03-19T18:53:51.742778Z",
     "iopub.status.idle": "2025-03-19T18:53:52.229094Z",
     "shell.execute_reply": "2025-03-19T18:53:52.227958Z"
    },
    "papermill": {
     "duration": 0.497193,
     "end_time": "2025-03-19T18:53:52.231212",
     "exception": false,
     "start_time": "2025-03-19T18:53:51.734019",
     "status": "completed"
    },
    "tags": []
   },
   "outputs": [],
   "source": [
    "# Define file paths\n",
    "features_path = \"/kaggle/input/walmart-sales-forecast/features.csv\"\n",
    "stores_path   = \"/kaggle/input/walmart-sales-forecast/stores.csv\"\n",
    "train_path    = \"/kaggle/input/walmart-sales-forecast/train.csv\"\n",
    "test_path     = \"/kaggle/input/walmart-sales-forecast/test.csv\"\n",
    "\n",
    "# Load datasets\n",
    "features = pd.read_csv(features_path)\n",
    "stores   = pd.read_csv(stores_path)\n",
    "train    = pd.read_csv(train_path)\n",
    "test     = pd.read_csv(test_path)"
   ]
  },
  {
   "cell_type": "code",
   "execution_count": 3,
   "id": "81a1e546",
   "metadata": {
    "execution": {
     "iopub.execute_input": "2025-03-19T18:53:52.248599Z",
     "iopub.status.busy": "2025-03-19T18:53:52.248206Z",
     "iopub.status.idle": "2025-03-19T18:53:52.342620Z",
     "shell.execute_reply": "2025-03-19T18:53:52.341296Z"
    },
    "papermill": {
     "duration": 0.105512,
     "end_time": "2025-03-19T18:53:52.344635",
     "exception": false,
     "start_time": "2025-03-19T18:53:52.239123",
     "status": "completed"
    },
    "tags": []
   },
   "outputs": [],
   "source": [
    "# Convert the 'Date' column to datetime format\n",
    "features[\"Date\"] = pd.to_datetime(features[\"Date\"], format=\"%Y-%m-%d\")\n",
    "train[\"Date\"] = pd.to_datetime(train[\"Date\"], format=\"%Y-%m-%d\")\n",
    "test[\"Date\"] = pd.to_datetime(test[\"Date\"], format=\"%Y-%m-%d\")"
   ]
  },
  {
   "cell_type": "markdown",
   "id": "ca80d876",
   "metadata": {
    "papermill": {
     "duration": 0.007287,
     "end_time": "2025-03-19T18:53:52.359640",
     "exception": false,
     "start_time": "2025-03-19T18:53:52.352353",
     "status": "completed"
    },
    "tags": []
   },
   "source": [
    "### Store Data"
   ]
  },
  {
   "cell_type": "code",
   "execution_count": 4,
   "id": "a2cc9fb1",
   "metadata": {
    "execution": {
     "iopub.execute_input": "2025-03-19T18:53:52.378099Z",
     "iopub.status.busy": "2025-03-19T18:53:52.377695Z",
     "iopub.status.idle": "2025-03-19T18:53:52.400833Z",
     "shell.execute_reply": "2025-03-19T18:53:52.399520Z"
    },
    "papermill": {
     "duration": 0.034764,
     "end_time": "2025-03-19T18:53:52.402838",
     "exception": false,
     "start_time": "2025-03-19T18:53:52.368074",
     "status": "completed"
    },
    "tags": []
   },
   "outputs": [
    {
     "data": {
      "text/html": [
       "<div>\n",
       "<style scoped>\n",
       "    .dataframe tbody tr th:only-of-type {\n",
       "        vertical-align: middle;\n",
       "    }\n",
       "\n",
       "    .dataframe tbody tr th {\n",
       "        vertical-align: top;\n",
       "    }\n",
       "\n",
       "    .dataframe thead th {\n",
       "        text-align: right;\n",
       "    }\n",
       "</style>\n",
       "<table border=\"1\" class=\"dataframe\">\n",
       "  <thead>\n",
       "    <tr style=\"text-align: right;\">\n",
       "      <th></th>\n",
       "      <th>Store</th>\n",
       "      <th>Type</th>\n",
       "      <th>Size</th>\n",
       "    </tr>\n",
       "  </thead>\n",
       "  <tbody>\n",
       "    <tr>\n",
       "      <th>0</th>\n",
       "      <td>1</td>\n",
       "      <td>A</td>\n",
       "      <td>151315</td>\n",
       "    </tr>\n",
       "    <tr>\n",
       "      <th>1</th>\n",
       "      <td>2</td>\n",
       "      <td>A</td>\n",
       "      <td>202307</td>\n",
       "    </tr>\n",
       "    <tr>\n",
       "      <th>2</th>\n",
       "      <td>3</td>\n",
       "      <td>B</td>\n",
       "      <td>37392</td>\n",
       "    </tr>\n",
       "    <tr>\n",
       "      <th>3</th>\n",
       "      <td>4</td>\n",
       "      <td>A</td>\n",
       "      <td>205863</td>\n",
       "    </tr>\n",
       "    <tr>\n",
       "      <th>4</th>\n",
       "      <td>5</td>\n",
       "      <td>B</td>\n",
       "      <td>34875</td>\n",
       "    </tr>\n",
       "  </tbody>\n",
       "</table>\n",
       "</div>"
      ],
      "text/plain": [
       "   Store Type    Size\n",
       "0      1    A  151315\n",
       "1      2    A  202307\n",
       "2      3    B   37392\n",
       "3      4    A  205863\n",
       "4      5    B   34875"
      ]
     },
     "execution_count": 4,
     "metadata": {},
     "output_type": "execute_result"
    }
   ],
   "source": [
    "stores.head()"
   ]
  },
  {
   "cell_type": "code",
   "execution_count": 5,
   "id": "e462a953",
   "metadata": {
    "execution": {
     "iopub.execute_input": "2025-03-19T18:53:52.421873Z",
     "iopub.status.busy": "2025-03-19T18:53:52.421486Z",
     "iopub.status.idle": "2025-03-19T18:53:52.431392Z",
     "shell.execute_reply": "2025-03-19T18:53:52.430195Z"
    },
    "papermill": {
     "duration": 0.021204,
     "end_time": "2025-03-19T18:53:52.433182",
     "exception": false,
     "start_time": "2025-03-19T18:53:52.411978",
     "status": "completed"
    },
    "tags": []
   },
   "outputs": [
    {
     "data": {
      "text/html": [
       "<div>\n",
       "<style scoped>\n",
       "    .dataframe tbody tr th:only-of-type {\n",
       "        vertical-align: middle;\n",
       "    }\n",
       "\n",
       "    .dataframe tbody tr th {\n",
       "        vertical-align: top;\n",
       "    }\n",
       "\n",
       "    .dataframe thead th {\n",
       "        text-align: right;\n",
       "    }\n",
       "</style>\n",
       "<table border=\"1\" class=\"dataframe\">\n",
       "  <thead>\n",
       "    <tr style=\"text-align: right;\">\n",
       "      <th></th>\n",
       "      <th>Store</th>\n",
       "      <th>Type</th>\n",
       "      <th>Size</th>\n",
       "    </tr>\n",
       "  </thead>\n",
       "  <tbody>\n",
       "    <tr>\n",
       "      <th>40</th>\n",
       "      <td>41</td>\n",
       "      <td>A</td>\n",
       "      <td>196321</td>\n",
       "    </tr>\n",
       "    <tr>\n",
       "      <th>41</th>\n",
       "      <td>42</td>\n",
       "      <td>C</td>\n",
       "      <td>39690</td>\n",
       "    </tr>\n",
       "    <tr>\n",
       "      <th>42</th>\n",
       "      <td>43</td>\n",
       "      <td>C</td>\n",
       "      <td>41062</td>\n",
       "    </tr>\n",
       "    <tr>\n",
       "      <th>43</th>\n",
       "      <td>44</td>\n",
       "      <td>C</td>\n",
       "      <td>39910</td>\n",
       "    </tr>\n",
       "    <tr>\n",
       "      <th>44</th>\n",
       "      <td>45</td>\n",
       "      <td>B</td>\n",
       "      <td>118221</td>\n",
       "    </tr>\n",
       "  </tbody>\n",
       "</table>\n",
       "</div>"
      ],
      "text/plain": [
       "    Store Type    Size\n",
       "40     41    A  196321\n",
       "41     42    C   39690\n",
       "42     43    C   41062\n",
       "43     44    C   39910\n",
       "44     45    B  118221"
      ]
     },
     "execution_count": 5,
     "metadata": {},
     "output_type": "execute_result"
    }
   ],
   "source": [
    "stores.tail()"
   ]
  },
  {
   "cell_type": "code",
   "execution_count": 6,
   "id": "093dce1a",
   "metadata": {
    "execution": {
     "iopub.execute_input": "2025-03-19T18:53:52.450740Z",
     "iopub.status.busy": "2025-03-19T18:53:52.450322Z",
     "iopub.status.idle": "2025-03-19T18:53:52.474299Z",
     "shell.execute_reply": "2025-03-19T18:53:52.473002Z"
    },
    "papermill": {
     "duration": 0.034709,
     "end_time": "2025-03-19T18:53:52.476120",
     "exception": false,
     "start_time": "2025-03-19T18:53:52.441411",
     "status": "completed"
    },
    "tags": []
   },
   "outputs": [
    {
     "name": "stdout",
     "output_type": "stream",
     "text": [
      "<class 'pandas.core.frame.DataFrame'>\n",
      "RangeIndex: 45 entries, 0 to 44\n",
      "Data columns (total 3 columns):\n",
      " #   Column  Non-Null Count  Dtype \n",
      "---  ------  --------------  ----- \n",
      " 0   Store   45 non-null     int64 \n",
      " 1   Type    45 non-null     object\n",
      " 2   Size    45 non-null     int64 \n",
      "dtypes: int64(2), object(1)\n",
      "memory usage: 1.2+ KB\n"
     ]
    }
   ],
   "source": [
    "stores.info()"
   ]
  },
  {
   "cell_type": "code",
   "execution_count": 7,
   "id": "29e7c4ff",
   "metadata": {
    "execution": {
     "iopub.execute_input": "2025-03-19T18:53:52.493592Z",
     "iopub.status.busy": "2025-03-19T18:53:52.493169Z",
     "iopub.status.idle": "2025-03-19T18:53:52.499804Z",
     "shell.execute_reply": "2025-03-19T18:53:52.498505Z"
    },
    "papermill": {
     "duration": 0.017426,
     "end_time": "2025-03-19T18:53:52.501740",
     "exception": false,
     "start_time": "2025-03-19T18:53:52.484314",
     "status": "completed"
    },
    "tags": []
   },
   "outputs": [],
   "source": [
    "def display_feature_range(df):\n",
    "    \"\"\"\n",
    "    Display the range of values for each column in a DataFrame.\n",
    "    For numeric (non-boolean) columns, prints the minimum, maximum, and range.\n",
    "    For non-numeric or boolean columns, prints the unique values.\n",
    "    \"\"\"\n",
    "    for col in df.columns:\n",
    "        print(\"=\" * 40)\n",
    "        print(f\"Feature: {col}\")\n",
    "        \n",
    "        # Check for numeric columns excluding booleans\n",
    "        if pd.api.types.is_numeric_dtype(df[col]) and not pd.api.types.is_bool_dtype(df[col]):\n",
    "            col_min = df[col].min()\n",
    "            col_max = df[col].max()\n",
    "            print(f\"Min: {col_min}\")\n",
    "            print(f\"Max: {col_max}\")\n",
    "            print(f\"Range: {col_max - col_min}\")\n",
    "        else:\n",
    "            unique_vals = df[col].unique()\n",
    "            print(\"Unique values:\", unique_vals)\n",
    "        print(\"=\" * 40, \"\\n\")"
   ]
  },
  {
   "cell_type": "code",
   "execution_count": 8,
   "id": "1c414ded",
   "metadata": {
    "execution": {
     "iopub.execute_input": "2025-03-19T18:53:52.519268Z",
     "iopub.status.busy": "2025-03-19T18:53:52.518831Z",
     "iopub.status.idle": "2025-03-19T18:53:52.527949Z",
     "shell.execute_reply": "2025-03-19T18:53:52.526870Z"
    },
    "papermill": {
     "duration": 0.019951,
     "end_time": "2025-03-19T18:53:52.529848",
     "exception": false,
     "start_time": "2025-03-19T18:53:52.509897",
     "status": "completed"
    },
    "tags": []
   },
   "outputs": [
    {
     "name": "stdout",
     "output_type": "stream",
     "text": [
      "========================================\n",
      "Feature: Store\n",
      "Min: 1\n",
      "Max: 45\n",
      "Range: 44\n",
      "======================================== \n",
      "\n",
      "========================================\n",
      "Feature: Type\n",
      "Unique values: ['A' 'B' 'C']\n",
      "======================================== \n",
      "\n",
      "========================================\n",
      "Feature: Size\n",
      "Min: 34875\n",
      "Max: 219622\n",
      "Range: 184747\n",
      "======================================== \n",
      "\n"
     ]
    }
   ],
   "source": [
    "# Call the function with the stores dataset\n",
    "display_feature_range(stores)"
   ]
  },
  {
   "cell_type": "markdown",
   "id": "4fa298db",
   "metadata": {
    "papermill": {
     "duration": 0.007917,
     "end_time": "2025-03-19T18:53:52.546600",
     "exception": false,
     "start_time": "2025-03-19T18:53:52.538683",
     "status": "completed"
    },
    "tags": []
   },
   "source": [
    "### Features Data"
   ]
  },
  {
   "cell_type": "code",
   "execution_count": 9,
   "id": "d94ef561",
   "metadata": {
    "execution": {
     "iopub.execute_input": "2025-03-19T18:53:52.566294Z",
     "iopub.status.busy": "2025-03-19T18:53:52.565932Z",
     "iopub.status.idle": "2025-03-19T18:53:52.570758Z",
     "shell.execute_reply": "2025-03-19T18:53:52.569521Z"
    },
    "papermill": {
     "duration": 0.018246,
     "end_time": "2025-03-19T18:53:52.572939",
     "exception": false,
     "start_time": "2025-03-19T18:53:52.554693",
     "status": "completed"
    },
    "tags": []
   },
   "outputs": [],
   "source": [
    "import warnings\n",
    "warnings.filterwarnings(\"ignore\", category=RuntimeWarning)"
   ]
  },
  {
   "cell_type": "code",
   "execution_count": 10,
   "id": "81cfb2cf",
   "metadata": {
    "execution": {
     "iopub.execute_input": "2025-03-19T18:53:52.591635Z",
     "iopub.status.busy": "2025-03-19T18:53:52.591215Z",
     "iopub.status.idle": "2025-03-19T18:53:52.610289Z",
     "shell.execute_reply": "2025-03-19T18:53:52.608582Z"
    },
    "papermill": {
     "duration": 0.030405,
     "end_time": "2025-03-19T18:53:52.612228",
     "exception": false,
     "start_time": "2025-03-19T18:53:52.581823",
     "status": "completed"
    },
    "tags": []
   },
   "outputs": [
    {
     "data": {
      "text/html": [
       "<div>\n",
       "<style scoped>\n",
       "    .dataframe tbody tr th:only-of-type {\n",
       "        vertical-align: middle;\n",
       "    }\n",
       "\n",
       "    .dataframe tbody tr th {\n",
       "        vertical-align: top;\n",
       "    }\n",
       "\n",
       "    .dataframe thead th {\n",
       "        text-align: right;\n",
       "    }\n",
       "</style>\n",
       "<table border=\"1\" class=\"dataframe\">\n",
       "  <thead>\n",
       "    <tr style=\"text-align: right;\">\n",
       "      <th></th>\n",
       "      <th>Store</th>\n",
       "      <th>Date</th>\n",
       "      <th>Temperature</th>\n",
       "      <th>Fuel_Price</th>\n",
       "      <th>MarkDown1</th>\n",
       "      <th>MarkDown2</th>\n",
       "      <th>MarkDown3</th>\n",
       "      <th>MarkDown4</th>\n",
       "      <th>MarkDown5</th>\n",
       "      <th>CPI</th>\n",
       "      <th>Unemployment</th>\n",
       "      <th>IsHoliday</th>\n",
       "    </tr>\n",
       "  </thead>\n",
       "  <tbody>\n",
       "    <tr>\n",
       "      <th>0</th>\n",
       "      <td>1</td>\n",
       "      <td>2010-02-05</td>\n",
       "      <td>42.31</td>\n",
       "      <td>2.572</td>\n",
       "      <td>NaN</td>\n",
       "      <td>NaN</td>\n",
       "      <td>NaN</td>\n",
       "      <td>NaN</td>\n",
       "      <td>NaN</td>\n",
       "      <td>211.096358</td>\n",
       "      <td>8.106</td>\n",
       "      <td>False</td>\n",
       "    </tr>\n",
       "    <tr>\n",
       "      <th>1</th>\n",
       "      <td>1</td>\n",
       "      <td>2010-02-12</td>\n",
       "      <td>38.51</td>\n",
       "      <td>2.548</td>\n",
       "      <td>NaN</td>\n",
       "      <td>NaN</td>\n",
       "      <td>NaN</td>\n",
       "      <td>NaN</td>\n",
       "      <td>NaN</td>\n",
       "      <td>211.242170</td>\n",
       "      <td>8.106</td>\n",
       "      <td>True</td>\n",
       "    </tr>\n",
       "    <tr>\n",
       "      <th>2</th>\n",
       "      <td>1</td>\n",
       "      <td>2010-02-19</td>\n",
       "      <td>39.93</td>\n",
       "      <td>2.514</td>\n",
       "      <td>NaN</td>\n",
       "      <td>NaN</td>\n",
       "      <td>NaN</td>\n",
       "      <td>NaN</td>\n",
       "      <td>NaN</td>\n",
       "      <td>211.289143</td>\n",
       "      <td>8.106</td>\n",
       "      <td>False</td>\n",
       "    </tr>\n",
       "    <tr>\n",
       "      <th>3</th>\n",
       "      <td>1</td>\n",
       "      <td>2010-02-26</td>\n",
       "      <td>46.63</td>\n",
       "      <td>2.561</td>\n",
       "      <td>NaN</td>\n",
       "      <td>NaN</td>\n",
       "      <td>NaN</td>\n",
       "      <td>NaN</td>\n",
       "      <td>NaN</td>\n",
       "      <td>211.319643</td>\n",
       "      <td>8.106</td>\n",
       "      <td>False</td>\n",
       "    </tr>\n",
       "    <tr>\n",
       "      <th>4</th>\n",
       "      <td>1</td>\n",
       "      <td>2010-03-05</td>\n",
       "      <td>46.50</td>\n",
       "      <td>2.625</td>\n",
       "      <td>NaN</td>\n",
       "      <td>NaN</td>\n",
       "      <td>NaN</td>\n",
       "      <td>NaN</td>\n",
       "      <td>NaN</td>\n",
       "      <td>211.350143</td>\n",
       "      <td>8.106</td>\n",
       "      <td>False</td>\n",
       "    </tr>\n",
       "  </tbody>\n",
       "</table>\n",
       "</div>"
      ],
      "text/plain": [
       "   Store       Date  Temperature  Fuel_Price  MarkDown1  MarkDown2  MarkDown3  \\\n",
       "0      1 2010-02-05        42.31       2.572        NaN        NaN        NaN   \n",
       "1      1 2010-02-12        38.51       2.548        NaN        NaN        NaN   \n",
       "2      1 2010-02-19        39.93       2.514        NaN        NaN        NaN   \n",
       "3      1 2010-02-26        46.63       2.561        NaN        NaN        NaN   \n",
       "4      1 2010-03-05        46.50       2.625        NaN        NaN        NaN   \n",
       "\n",
       "   MarkDown4  MarkDown5         CPI  Unemployment  IsHoliday  \n",
       "0        NaN        NaN  211.096358         8.106      False  \n",
       "1        NaN        NaN  211.242170         8.106       True  \n",
       "2        NaN        NaN  211.289143         8.106      False  \n",
       "3        NaN        NaN  211.319643         8.106      False  \n",
       "4        NaN        NaN  211.350143         8.106      False  "
      ]
     },
     "execution_count": 10,
     "metadata": {},
     "output_type": "execute_result"
    }
   ],
   "source": [
    "features.head()"
   ]
  },
  {
   "cell_type": "code",
   "execution_count": 11,
   "id": "928ce44d",
   "metadata": {
    "execution": {
     "iopub.execute_input": "2025-03-19T18:53:52.631041Z",
     "iopub.status.busy": "2025-03-19T18:53:52.630628Z",
     "iopub.status.idle": "2025-03-19T18:53:52.647831Z",
     "shell.execute_reply": "2025-03-19T18:53:52.646575Z"
    },
    "papermill": {
     "duration": 0.028578,
     "end_time": "2025-03-19T18:53:52.649932",
     "exception": false,
     "start_time": "2025-03-19T18:53:52.621354",
     "status": "completed"
    },
    "tags": []
   },
   "outputs": [
    {
     "data": {
      "text/html": [
       "<div>\n",
       "<style scoped>\n",
       "    .dataframe tbody tr th:only-of-type {\n",
       "        vertical-align: middle;\n",
       "    }\n",
       "\n",
       "    .dataframe tbody tr th {\n",
       "        vertical-align: top;\n",
       "    }\n",
       "\n",
       "    .dataframe thead th {\n",
       "        text-align: right;\n",
       "    }\n",
       "</style>\n",
       "<table border=\"1\" class=\"dataframe\">\n",
       "  <thead>\n",
       "    <tr style=\"text-align: right;\">\n",
       "      <th></th>\n",
       "      <th>Store</th>\n",
       "      <th>Date</th>\n",
       "      <th>Temperature</th>\n",
       "      <th>Fuel_Price</th>\n",
       "      <th>MarkDown1</th>\n",
       "      <th>MarkDown2</th>\n",
       "      <th>MarkDown3</th>\n",
       "      <th>MarkDown4</th>\n",
       "      <th>MarkDown5</th>\n",
       "      <th>CPI</th>\n",
       "      <th>Unemployment</th>\n",
       "      <th>IsHoliday</th>\n",
       "    </tr>\n",
       "  </thead>\n",
       "  <tbody>\n",
       "    <tr>\n",
       "      <th>8185</th>\n",
       "      <td>45</td>\n",
       "      <td>2013-06-28</td>\n",
       "      <td>76.05</td>\n",
       "      <td>3.639</td>\n",
       "      <td>4842.29</td>\n",
       "      <td>975.03</td>\n",
       "      <td>3.00</td>\n",
       "      <td>2449.97</td>\n",
       "      <td>3169.69</td>\n",
       "      <td>NaN</td>\n",
       "      <td>NaN</td>\n",
       "      <td>False</td>\n",
       "    </tr>\n",
       "    <tr>\n",
       "      <th>8186</th>\n",
       "      <td>45</td>\n",
       "      <td>2013-07-05</td>\n",
       "      <td>77.50</td>\n",
       "      <td>3.614</td>\n",
       "      <td>9090.48</td>\n",
       "      <td>2268.58</td>\n",
       "      <td>582.74</td>\n",
       "      <td>5797.47</td>\n",
       "      <td>1514.93</td>\n",
       "      <td>NaN</td>\n",
       "      <td>NaN</td>\n",
       "      <td>False</td>\n",
       "    </tr>\n",
       "    <tr>\n",
       "      <th>8187</th>\n",
       "      <td>45</td>\n",
       "      <td>2013-07-12</td>\n",
       "      <td>79.37</td>\n",
       "      <td>3.614</td>\n",
       "      <td>3789.94</td>\n",
       "      <td>1827.31</td>\n",
       "      <td>85.72</td>\n",
       "      <td>744.84</td>\n",
       "      <td>2150.36</td>\n",
       "      <td>NaN</td>\n",
       "      <td>NaN</td>\n",
       "      <td>False</td>\n",
       "    </tr>\n",
       "    <tr>\n",
       "      <th>8188</th>\n",
       "      <td>45</td>\n",
       "      <td>2013-07-19</td>\n",
       "      <td>82.84</td>\n",
       "      <td>3.737</td>\n",
       "      <td>2961.49</td>\n",
       "      <td>1047.07</td>\n",
       "      <td>204.19</td>\n",
       "      <td>363.00</td>\n",
       "      <td>1059.46</td>\n",
       "      <td>NaN</td>\n",
       "      <td>NaN</td>\n",
       "      <td>False</td>\n",
       "    </tr>\n",
       "    <tr>\n",
       "      <th>8189</th>\n",
       "      <td>45</td>\n",
       "      <td>2013-07-26</td>\n",
       "      <td>76.06</td>\n",
       "      <td>3.804</td>\n",
       "      <td>212.02</td>\n",
       "      <td>851.73</td>\n",
       "      <td>2.06</td>\n",
       "      <td>10.88</td>\n",
       "      <td>1864.57</td>\n",
       "      <td>NaN</td>\n",
       "      <td>NaN</td>\n",
       "      <td>False</td>\n",
       "    </tr>\n",
       "  </tbody>\n",
       "</table>\n",
       "</div>"
      ],
      "text/plain": [
       "      Store       Date  Temperature  Fuel_Price  MarkDown1  MarkDown2  \\\n",
       "8185     45 2013-06-28        76.05       3.639    4842.29     975.03   \n",
       "8186     45 2013-07-05        77.50       3.614    9090.48    2268.58   \n",
       "8187     45 2013-07-12        79.37       3.614    3789.94    1827.31   \n",
       "8188     45 2013-07-19        82.84       3.737    2961.49    1047.07   \n",
       "8189     45 2013-07-26        76.06       3.804     212.02     851.73   \n",
       "\n",
       "      MarkDown3  MarkDown4  MarkDown5  CPI  Unemployment  IsHoliday  \n",
       "8185       3.00    2449.97    3169.69  NaN           NaN      False  \n",
       "8186     582.74    5797.47    1514.93  NaN           NaN      False  \n",
       "8187      85.72     744.84    2150.36  NaN           NaN      False  \n",
       "8188     204.19     363.00    1059.46  NaN           NaN      False  \n",
       "8189       2.06      10.88    1864.57  NaN           NaN      False  "
      ]
     },
     "execution_count": 11,
     "metadata": {},
     "output_type": "execute_result"
    }
   ],
   "source": [
    "features.tail()"
   ]
  },
  {
   "cell_type": "code",
   "execution_count": 12,
   "id": "c3f6e5bd",
   "metadata": {
    "execution": {
     "iopub.execute_input": "2025-03-19T18:53:52.669546Z",
     "iopub.status.busy": "2025-03-19T18:53:52.669063Z",
     "iopub.status.idle": "2025-03-19T18:53:52.681665Z",
     "shell.execute_reply": "2025-03-19T18:53:52.679675Z"
    },
    "papermill": {
     "duration": 0.024112,
     "end_time": "2025-03-19T18:53:52.683629",
     "exception": false,
     "start_time": "2025-03-19T18:53:52.659517",
     "status": "completed"
    },
    "tags": []
   },
   "outputs": [
    {
     "name": "stdout",
     "output_type": "stream",
     "text": [
      "<class 'pandas.core.frame.DataFrame'>\n",
      "RangeIndex: 8190 entries, 0 to 8189\n",
      "Data columns (total 12 columns):\n",
      " #   Column        Non-Null Count  Dtype         \n",
      "---  ------        --------------  -----         \n",
      " 0   Store         8190 non-null   int64         \n",
      " 1   Date          8190 non-null   datetime64[ns]\n",
      " 2   Temperature   8190 non-null   float64       \n",
      " 3   Fuel_Price    8190 non-null   float64       \n",
      " 4   MarkDown1     4032 non-null   float64       \n",
      " 5   MarkDown2     2921 non-null   float64       \n",
      " 6   MarkDown3     3613 non-null   float64       \n",
      " 7   MarkDown4     3464 non-null   float64       \n",
      " 8   MarkDown5     4050 non-null   float64       \n",
      " 9   CPI           7605 non-null   float64       \n",
      " 10  Unemployment  7605 non-null   float64       \n",
      " 11  IsHoliday     8190 non-null   bool          \n",
      "dtypes: bool(1), datetime64[ns](1), float64(9), int64(1)\n",
      "memory usage: 712.0 KB\n"
     ]
    }
   ],
   "source": [
    "features.info()"
   ]
  },
  {
   "cell_type": "code",
   "execution_count": 13,
   "id": "9e16815c",
   "metadata": {
    "execution": {
     "iopub.execute_input": "2025-03-19T18:53:52.702616Z",
     "iopub.status.busy": "2025-03-19T18:53:52.702209Z",
     "iopub.status.idle": "2025-03-19T18:53:52.720686Z",
     "shell.execute_reply": "2025-03-19T18:53:52.719319Z"
    },
    "papermill": {
     "duration": 0.029922,
     "end_time": "2025-03-19T18:53:52.722623",
     "exception": false,
     "start_time": "2025-03-19T18:53:52.692701",
     "status": "completed"
    },
    "tags": []
   },
   "outputs": [
    {
     "name": "stdout",
     "output_type": "stream",
     "text": [
      "<class 'pandas.core.frame.DataFrame'>\n",
      "RangeIndex: 8190 entries, 0 to 8189\n",
      "Data columns (total 12 columns):\n",
      " #   Column        Non-Null Count  Dtype         \n",
      "---  ------        --------------  -----         \n",
      " 0   Store         8190 non-null   int64         \n",
      " 1   Date          8190 non-null   datetime64[ns]\n",
      " 2   Temperature   8190 non-null   float64       \n",
      " 3   Fuel_Price    8190 non-null   float64       \n",
      " 4   MarkDown1     8190 non-null   float64       \n",
      " 5   MarkDown2     8190 non-null   float64       \n",
      " 6   MarkDown3     8190 non-null   float64       \n",
      " 7   MarkDown4     8190 non-null   float64       \n",
      " 8   MarkDown5     8190 non-null   float64       \n",
      " 9   CPI           7605 non-null   float64       \n",
      " 10  Unemployment  7605 non-null   float64       \n",
      " 11  IsHoliday     8190 non-null   bool          \n",
      "dtypes: bool(1), datetime64[ns](1), float64(9), int64(1)\n",
      "memory usage: 712.0 KB\n"
     ]
    }
   ],
   "source": [
    "# Define the list of MarkDown columns\n",
    "markdown_cols = [\"MarkDown1\", \"MarkDown2\", \"MarkDown3\", \"MarkDown4\", \"MarkDown5\"]\n",
    "\n",
    "# Fill missing values in the MarkDown columns with 0\n",
    "features[markdown_cols] = features[markdown_cols].fillna(0)\n",
    "\n",
    "# Optionally, display info to verify that missing values have been filled\n",
    "features.info()"
   ]
  },
  {
   "cell_type": "code",
   "execution_count": 14,
   "id": "5ba337a2",
   "metadata": {
    "execution": {
     "iopub.execute_input": "2025-03-19T18:53:52.743284Z",
     "iopub.status.busy": "2025-03-19T18:53:52.742866Z",
     "iopub.status.idle": "2025-03-19T18:53:52.752006Z",
     "shell.execute_reply": "2025-03-19T18:53:52.750355Z"
    },
    "papermill": {
     "duration": 0.021699,
     "end_time": "2025-03-19T18:53:52.754378",
     "exception": false,
     "start_time": "2025-03-19T18:53:52.732679",
     "status": "completed"
    },
    "tags": []
   },
   "outputs": [
    {
     "name": "stdout",
     "output_type": "stream",
     "text": [
      "CPI and Unemployment have the exact same missing value pattern.\n"
     ]
    }
   ],
   "source": [
    "# Create boolean masks where True indicates a missing value\n",
    "mask_cpi = features['CPI'].isna()\n",
    "mask_unemployment = features['Unemployment'].isna()\n",
    "\n",
    "# Check if both masks are exactly the same\n",
    "if mask_cpi.equals(mask_unemployment):\n",
    "    print(\"CPI and Unemployment have the exact same missing value pattern.\")\n",
    "else:\n",
    "    print(\"CPI and Unemployment have different missing value patterns.\")"
   ]
  },
  {
   "cell_type": "code",
   "execution_count": 15,
   "id": "a71f183d",
   "metadata": {
    "execution": {
     "iopub.execute_input": "2025-03-19T18:53:52.774715Z",
     "iopub.status.busy": "2025-03-19T18:53:52.774316Z",
     "iopub.status.idle": "2025-03-19T18:53:52.792104Z",
     "shell.execute_reply": "2025-03-19T18:53:52.790356Z"
    },
    "papermill": {
     "duration": 0.03006,
     "end_time": "2025-03-19T18:53:52.794418",
     "exception": false,
     "start_time": "2025-03-19T18:53:52.764358",
     "status": "completed"
    },
    "tags": []
   },
   "outputs": [
    {
     "name": "stdout",
     "output_type": "stream",
     "text": [
      "      Store       Date  Temperature  Fuel_Price  MarkDown1  MarkDown2  \\\n",
      "169       1 2013-05-03        66.66       3.386    2298.63       2.00   \n",
      "170       1 2013-05-10        63.90       3.392    4624.61      83.88   \n",
      "171       1 2013-05-17        69.53       3.454   16170.50      92.00   \n",
      "172       1 2013-05-24        77.19       3.494    7959.89     178.00   \n",
      "173       1 2013-05-31        78.02       3.466    2369.77     142.45   \n",
      "...     ...        ...          ...         ...        ...        ...   \n",
      "8185     45 2013-06-28        76.05       3.639    4842.29     975.03   \n",
      "8186     45 2013-07-05        77.50       3.614    9090.48    2268.58   \n",
      "8187     45 2013-07-12        79.37       3.614    3789.94    1827.31   \n",
      "8188     45 2013-07-19        82.84       3.737    2961.49    1047.07   \n",
      "8189     45 2013-07-26        76.06       3.804     212.02     851.73   \n",
      "\n",
      "      MarkDown3  MarkDown4  MarkDown5  CPI  Unemployment  IsHoliday  \n",
      "169      129.90      55.46    1301.04  NaN           NaN      False  \n",
      "170       42.38    1618.31    8144.90  NaN           NaN      False  \n",
      "171        8.32    4127.24    6206.97  NaN           NaN      False  \n",
      "172     1621.47    3152.57    2938.70  NaN           NaN      False  \n",
      "173      475.35      45.55    2056.84  NaN           NaN      False  \n",
      "...         ...        ...        ...  ...           ...        ...  \n",
      "8185       3.00    2449.97    3169.69  NaN           NaN      False  \n",
      "8186     582.74    5797.47    1514.93  NaN           NaN      False  \n",
      "8187      85.72     744.84    2150.36  NaN           NaN      False  \n",
      "8188     204.19     363.00    1059.46  NaN           NaN      False  \n",
      "8189       2.06      10.88    1864.57  NaN           NaN      False  \n",
      "\n",
      "[585 rows x 12 columns]\n"
     ]
    }
   ],
   "source": [
    "# Rows where CPI  is missing\n",
    "missing_mask = features['CPI'].isna() \n",
    "missing_rows = features[missing_mask]\n",
    "print(missing_rows)"
   ]
  },
  {
   "cell_type": "code",
   "execution_count": 16,
   "id": "a0591d3d",
   "metadata": {
    "execution": {
     "iopub.execute_input": "2025-03-19T18:53:52.817299Z",
     "iopub.status.busy": "2025-03-19T18:53:52.816891Z",
     "iopub.status.idle": "2025-03-19T18:53:52.831187Z",
     "shell.execute_reply": "2025-03-19T18:53:52.828862Z"
    },
    "papermill": {
     "duration": 0.029399,
     "end_time": "2025-03-19T18:53:52.833776",
     "exception": false,
     "start_time": "2025-03-19T18:53:52.804377",
     "status": "completed"
    },
    "tags": []
   },
   "outputs": [
    {
     "name": "stdout",
     "output_type": "stream",
     "text": [
      "          Date        CPI\n",
      "165 2013-04-05  225.08654\n",
      "166 2013-04-12  225.17016\n",
      "167 2013-04-19  225.17016\n",
      "168 2013-04-26  225.17016\n",
      "169 2013-05-03        NaN\n",
      "170 2013-05-10        NaN\n",
      "171 2013-05-17        NaN\n",
      "172 2013-05-24        NaN\n",
      "173 2013-05-31        NaN\n",
      "174 2013-06-07        NaN\n",
      "175 2013-06-14        NaN\n",
      "176 2013-06-21        NaN\n",
      "177 2013-06-28        NaN\n",
      "178 2013-07-05        NaN\n",
      "179 2013-07-12        NaN\n",
      "180 2013-07-19        NaN\n",
      "181 2013-07-26        NaN\n"
     ]
    }
   ],
   "source": [
    "# Focus on Store 1 (or whichever store is plotted)\n",
    "store1 = features[features['Store'] == 1].copy()\n",
    "store1 = store1.sort_values('Date')\n",
    "\n",
    "# Inspect data for the time frame around the suspicious jump\n",
    "suspicious_range = store1[(store1['Date'] >= \"2013-04-01\") & (store1['Date'] <= \"2013-08-31\")]\n",
    "print(suspicious_range[['Date', 'CPI']])"
   ]
  },
  {
   "cell_type": "code",
   "execution_count": 17,
   "id": "f2b9f131",
   "metadata": {
    "execution": {
     "iopub.execute_input": "2025-03-19T18:53:52.853302Z",
     "iopub.status.busy": "2025-03-19T18:53:52.852967Z",
     "iopub.status.idle": "2025-03-19T18:53:52.863916Z",
     "shell.execute_reply": "2025-03-19T18:53:52.862514Z"
    },
    "papermill": {
     "duration": 0.022556,
     "end_time": "2025-03-19T18:53:52.865801",
     "exception": false,
     "start_time": "2025-03-19T18:53:52.843245",
     "status": "completed"
    },
    "tags": []
   },
   "outputs": [
    {
     "name": "stdout",
     "output_type": "stream",
     "text": [
      "           Date  Store         CPI  Unemployment\n",
      "8160 2013-01-04     45  192.659622         8.625\n",
      "8161 2013-01-11     45  192.759980         8.625\n",
      "8162 2013-01-18     45  192.809507         8.625\n",
      "8163 2013-01-25     45  192.838701         8.625\n",
      "8164 2013-02-01     45  192.867895         8.625\n",
      "8165 2013-02-08     45  192.897089         8.625\n",
      "8166 2013-02-15     45  192.943471         8.625\n",
      "8167 2013-02-22     45  193.032822         8.625\n",
      "8168 2013-03-01     45  193.122173         8.625\n",
      "8169 2013-03-08     45  193.211524         8.625\n",
      "8170 2013-03-15     45  193.296277         8.625\n",
      "8171 2013-03-22     45  193.369533         8.625\n",
      "8172 2013-03-29     45  193.442790         8.625\n",
      "8173 2013-04-05     45  193.516047         8.335\n",
      "8174 2013-04-12     45  193.589304         8.335\n",
      "8175 2013-04-19     45  193.589304         8.335\n",
      "8176 2013-04-26     45  193.589304         8.335\n",
      "8177 2013-05-03     45         NaN           NaN\n",
      "8178 2013-05-10     45         NaN           NaN\n",
      "8179 2013-05-17     45         NaN           NaN\n",
      "8180 2013-05-24     45         NaN           NaN\n",
      "8181 2013-05-31     45         NaN           NaN\n",
      "8182 2013-06-07     45         NaN           NaN\n",
      "8183 2013-06-14     45         NaN           NaN\n",
      "8184 2013-06-21     45         NaN           NaN\n",
      "8185 2013-06-28     45         NaN           NaN\n",
      "8186 2013-07-05     45         NaN           NaN\n",
      "8187 2013-07-12     45         NaN           NaN\n",
      "8188 2013-07-19     45         NaN           NaN\n",
      "8189 2013-07-26     45         NaN           NaN\n"
     ]
    }
   ],
   "source": [
    "print(features[['Date', 'Store', 'CPI', 'Unemployment']].tail(30))"
   ]
  },
  {
   "cell_type": "code",
   "execution_count": 18,
   "id": "e917611b",
   "metadata": {
    "execution": {
     "iopub.execute_input": "2025-03-19T18:53:52.886082Z",
     "iopub.status.busy": "2025-03-19T18:53:52.885756Z",
     "iopub.status.idle": "2025-03-19T18:53:52.904402Z",
     "shell.execute_reply": "2025-03-19T18:53:52.903326Z"
    },
    "papermill": {
     "duration": 0.03102,
     "end_time": "2025-03-19T18:53:52.906662",
     "exception": false,
     "start_time": "2025-03-19T18:53:52.875642",
     "status": "completed"
    },
    "tags": []
   },
   "outputs": [],
   "source": [
    "# Set Date as the index to use time-based interpolation\n",
    "features.set_index(\"Date\", inplace=True)\n",
    "\n",
    "# Step 1: Forward-Fill (Propagate last known values forward)\n",
    "features[['CPI', 'Unemployment']] = features[['CPI', 'Unemployment']].ffill()\n",
    "\n",
    "# Step 2: Backward-Fill (Fill remaining NaNs using the next known values)\n",
    "features[['CPI', 'Unemployment']] = features[['CPI', 'Unemployment']].bfill()\n",
    "\n",
    "# Step 3: Apply Linear Interpolation to smooth values\n",
    "features[['CPI', 'Unemployment']] = features[['CPI', 'Unemployment']].interpolate(method='linear', limit_direction='both')\n",
    "\n",
    "# Reset index if you need Date as a column again\n",
    "features.reset_index(inplace=True)\n"
   ]
  },
  {
   "cell_type": "code",
   "execution_count": 19,
   "id": "09e48c2f",
   "metadata": {
    "execution": {
     "iopub.execute_input": "2025-03-19T18:53:52.927345Z",
     "iopub.status.busy": "2025-03-19T18:53:52.926955Z",
     "iopub.status.idle": "2025-03-19T18:53:52.936935Z",
     "shell.execute_reply": "2025-03-19T18:53:52.935779Z"
    },
    "papermill": {
     "duration": 0.022704,
     "end_time": "2025-03-19T18:53:52.939029",
     "exception": false,
     "start_time": "2025-03-19T18:53:52.916325",
     "status": "completed"
    },
    "tags": []
   },
   "outputs": [
    {
     "name": "stdout",
     "output_type": "stream",
     "text": [
      "           Date         CPI  Unemployment\n",
      "8160 2013-01-04  192.659622         8.625\n",
      "8161 2013-01-11  192.759980         8.625\n",
      "8162 2013-01-18  192.809507         8.625\n",
      "8163 2013-01-25  192.838701         8.625\n",
      "8164 2013-02-01  192.867895         8.625\n",
      "8165 2013-02-08  192.897089         8.625\n",
      "8166 2013-02-15  192.943471         8.625\n",
      "8167 2013-02-22  193.032822         8.625\n",
      "8168 2013-03-01  193.122173         8.625\n",
      "8169 2013-03-08  193.211524         8.625\n",
      "8170 2013-03-15  193.296277         8.625\n",
      "8171 2013-03-22  193.369533         8.625\n",
      "8172 2013-03-29  193.442790         8.625\n",
      "8173 2013-04-05  193.516047         8.335\n",
      "8174 2013-04-12  193.589304         8.335\n",
      "8175 2013-04-19  193.589304         8.335\n",
      "8176 2013-04-26  193.589304         8.335\n",
      "8177 2013-05-03  193.589304         8.335\n",
      "8178 2013-05-10  193.589304         8.335\n",
      "8179 2013-05-17  193.589304         8.335\n",
      "8180 2013-05-24  193.589304         8.335\n",
      "8181 2013-05-31  193.589304         8.335\n",
      "8182 2013-06-07  193.589304         8.335\n",
      "8183 2013-06-14  193.589304         8.335\n",
      "8184 2013-06-21  193.589304         8.335\n",
      "8185 2013-06-28  193.589304         8.335\n",
      "8186 2013-07-05  193.589304         8.335\n",
      "8187 2013-07-12  193.589304         8.335\n",
      "8188 2013-07-19  193.589304         8.335\n",
      "8189 2013-07-26  193.589304         8.335\n"
     ]
    }
   ],
   "source": [
    "print(features[['Date', 'CPI', 'Unemployment']].tail(30))"
   ]
  },
  {
   "cell_type": "code",
   "execution_count": 20,
   "id": "a203dd48",
   "metadata": {
    "execution": {
     "iopub.execute_input": "2025-03-19T18:53:52.959018Z",
     "iopub.status.busy": "2025-03-19T18:53:52.958643Z",
     "iopub.status.idle": "2025-03-19T18:53:52.971013Z",
     "shell.execute_reply": "2025-03-19T18:53:52.969518Z"
    },
    "papermill": {
     "duration": 0.024399,
     "end_time": "2025-03-19T18:53:52.972983",
     "exception": false,
     "start_time": "2025-03-19T18:53:52.948584",
     "status": "completed"
    },
    "tags": []
   },
   "outputs": [
    {
     "name": "stdout",
     "output_type": "stream",
     "text": [
      "<class 'pandas.core.frame.DataFrame'>\n",
      "RangeIndex: 8190 entries, 0 to 8189\n",
      "Data columns (total 12 columns):\n",
      " #   Column        Non-Null Count  Dtype         \n",
      "---  ------        --------------  -----         \n",
      " 0   Date          8190 non-null   datetime64[ns]\n",
      " 1   Store         8190 non-null   int64         \n",
      " 2   Temperature   8190 non-null   float64       \n",
      " 3   Fuel_Price    8190 non-null   float64       \n",
      " 4   MarkDown1     8190 non-null   float64       \n",
      " 5   MarkDown2     8190 non-null   float64       \n",
      " 6   MarkDown3     8190 non-null   float64       \n",
      " 7   MarkDown4     8190 non-null   float64       \n",
      " 8   MarkDown5     8190 non-null   float64       \n",
      " 9   CPI           8190 non-null   float64       \n",
      " 10  Unemployment  8190 non-null   float64       \n",
      " 11  IsHoliday     8190 non-null   bool          \n",
      "dtypes: bool(1), datetime64[ns](1), float64(9), int64(1)\n",
      "memory usage: 712.0 KB\n"
     ]
    }
   ],
   "source": [
    "features.info()"
   ]
  },
  {
   "cell_type": "code",
   "execution_count": 21,
   "id": "0630f871",
   "metadata": {
    "execution": {
     "iopub.execute_input": "2025-03-19T18:53:52.993492Z",
     "iopub.status.busy": "2025-03-19T18:53:52.993053Z",
     "iopub.status.idle": "2025-03-19T18:53:54.058153Z",
     "shell.execute_reply": "2025-03-19T18:53:54.057044Z"
    },
    "papermill": {
     "duration": 1.077564,
     "end_time": "2025-03-19T18:53:54.060115",
     "exception": false,
     "start_time": "2025-03-19T18:53:52.982551",
     "status": "completed"
    },
    "tags": []
   },
   "outputs": [
    {
     "name": "stderr",
     "output_type": "stream",
     "text": [
      "<ipython-input-21-8e5e9374b37a>:13: DeprecationWarning: DataFrameGroupBy.apply operated on the grouping columns. This behavior is deprecated, and in a future version of pandas the grouping columns will be excluded from the operation. Either pass `include_groups=False` to exclude the groupings or explicitly select the grouping columns after groupby to silence this warning.\n",
      "  .apply(lambda g: g.sort_values(\"Date\").interpolate(method='linear', limit_direction='both'))\n"
     ]
    },
    {
     "data": {
      "image/png": "[encoded data removed]",
      "text/plain": [
       "<Figure size 1200x600 with 2 Axes>"
      ]
     },
     "metadata": {},
     "output_type": "display_data"
    }
   ],
   "source": [
    "import pandas as pd\n",
    "import matplotlib.pyplot as plt\n",
    "\n",
    "# 1. Ensure Date is in datetime format\n",
    "features['Date'] = pd.to_datetime(features['Date'])\n",
    "\n",
    "# 2. Sort by Store and Date (only needed once)\n",
    "features.sort_values([\"Store\", \"Date\"], inplace=True)\n",
    "\n",
    "# 3. Fix: Keep \"Date\" inside the groupby operation to prevent KeyError\n",
    "features = (\n",
    "    features.groupby(\"Store\", group_keys=False)  # Ensure operations are done per store\n",
    "            .apply(lambda g: g.sort_values(\"Date\").interpolate(method='linear', limit_direction='both'))  \n",
    "            .reset_index(drop=True)  # Reset index to align with original DataFrame\n",
    ")\n",
    "\n",
    "# 4. Aggregate to get daily averages across all stores (ensuring one row per date)\n",
    "daily_avg = features.groupby('Date', as_index=False).agg({\n",
    "    'CPI': 'mean',\n",
    "    'Unemployment': 'mean'\n",
    "})\n",
    "daily_avg.sort_values('Date', inplace=True)\n",
    "\n",
    "# 5. Create a dual-axis plot\n",
    "fig, ax1 = plt.subplots(figsize=(12,6))\n",
    "\n",
    "# CPI on primary y-axis\n",
    "color_cpi = 'tab:blue'\n",
    "ax1.set_xlabel(\"Date\")\n",
    "ax1.set_ylabel(\"CPI\", color=color_cpi)\n",
    "ax1.plot(daily_avg['Date'], daily_avg['CPI'], color=color_cpi, label='Avg CPI')\n",
    "ax1.tick_params(axis='y', labelcolor=color_cpi)\n",
    "\n",
    "# Unemployment on secondary y-axis\n",
    "ax2 = ax1.twinx()\n",
    "color_unemp = 'tab:red'\n",
    "ax2.set_ylabel(\"Unemployment\", color=color_unemp)\n",
    "ax2.plot(daily_avg['Date'], daily_avg['Unemployment'], color=color_unemp, label='Avg Unemployment')\n",
    "ax2.tick_params(axis='y', labelcolor=color_unemp)\n",
    "\n",
    "plt.title(\"Average CPI and Unemployment Over Time (All Stores)\")\n",
    "fig.tight_layout()\n",
    "plt.savefig(\"CPI_Unemployment_dual_axis_fixed.jpg\", format=\"jpg\", dpi=300)\n",
    "plt.show()\n"
   ]
  },
  {
   "cell_type": "code",
   "execution_count": 22,
   "id": "68105e82",
   "metadata": {
    "execution": {
     "iopub.execute_input": "2025-03-19T18:53:54.082496Z",
     "iopub.status.busy": "2025-03-19T18:53:54.082099Z",
     "iopub.status.idle": "2025-03-19T18:53:55.045004Z",
     "shell.execute_reply": "2025-03-19T18:53:55.043581Z"
    },
    "papermill": {
     "duration": 0.976296,
     "end_time": "2025-03-19T18:53:55.047172",
     "exception": false,
     "start_time": "2025-03-19T18:53:54.070876",
     "status": "completed"
    },
    "tags": []
   },
   "outputs": [
    {
     "data": {
      "image/png": "[encoded data removed]",
      "text/plain": [
       "<Figure size 1200x600 with 2 Axes>"
      ]
     },
     "metadata": {},
     "output_type": "display_data"
    }
   ],
   "source": [
    "import pandas as pd\n",
    "import matplotlib.pyplot as plt\n",
    "\n",
    "# Assuming 'features' is your DataFrame with interpolated CPI and Unemployment\n",
    "\n",
    "# Choose the store you want to visualize (e.g., Store 1)\n",
    "store_id = 1\n",
    "store_df = features[features['Store'] == store_id].copy()\n",
    "\n",
    "# Sort by Date to ensure the time series is in order\n",
    "store_df.sort_values('Date', inplace=True)\n",
    "\n",
    "# Create a dual-axis plot\n",
    "fig, ax1 = plt.subplots(figsize=(12,6))\n",
    "\n",
    "# Plot CPI on the primary y-axis\n",
    "color_cpi = 'tab:blue'\n",
    "ax1.set_xlabel(\"Date\")\n",
    "ax1.set_ylabel(\"CPI\", color=color_cpi)\n",
    "ax1.plot(store_df['Date'], store_df['CPI'], color=color_cpi, label='CPI')\n",
    "ax1.tick_params(axis='y', labelcolor=color_cpi)\n",
    "\n",
    "# Create a second y-axis for Unemployment\n",
    "ax2 = ax1.twinx()\n",
    "color_unemp = 'tab:red'\n",
    "ax2.set_ylabel(\"Unemployment\", color=color_unemp)\n",
    "ax2.plot(store_df['Date'], store_df['Unemployment'], color=color_unemp, label='Unemployment')\n",
    "ax2.tick_params(axis='y', labelcolor=color_unemp)\n",
    "\n",
    "plt.title(f\"Store {store_id} - CPI and Unemployment Over Time\")\n",
    "fig.tight_layout()\n",
    "plt.savefig(f\"Store_{store_id}_CPI_Unemployment_dual_axis.jpg\", format=\"jpg\", dpi=300)\n",
    "plt.show()\n"
   ]
  },
  {
   "cell_type": "code",
   "execution_count": 23,
   "id": "2b2b99b1",
   "metadata": {
    "execution": {
     "iopub.execute_input": "2025-03-19T18:53:55.074088Z",
     "iopub.status.busy": "2025-03-19T18:53:55.073728Z",
     "iopub.status.idle": "2025-03-19T18:53:55.083097Z",
     "shell.execute_reply": "2025-03-19T18:53:55.081703Z"
    },
    "papermill": {
     "duration": 0.024871,
     "end_time": "2025-03-19T18:53:55.084921",
     "exception": false,
     "start_time": "2025-03-19T18:53:55.060050",
     "status": "completed"
    },
    "tags": []
   },
   "outputs": [
    {
     "name": "stdout",
     "output_type": "stream",
     "text": [
      "          Date        CPI  Unemployment\n",
      "169 2013-05-03  177.99068      6.719244\n",
      "170 2013-05-10  177.99068      6.719244\n",
      "171 2013-05-17  177.99068      6.719244\n",
      "172 2013-05-24  177.99068      6.719244\n",
      "173 2013-05-31  177.99068      6.719244\n",
      "174 2013-06-07  177.99068      6.719244\n",
      "175 2013-06-14  177.99068      6.719244\n",
      "176 2013-06-21  177.99068      6.719244\n",
      "177 2013-06-28  177.99068      6.719244\n",
      "178 2013-07-05  177.99068      6.719244\n",
      "179 2013-07-12  177.99068      6.719244\n",
      "180 2013-07-19  177.99068      6.719244\n",
      "181 2013-07-26  177.99068      6.719244\n"
     ]
    }
   ],
   "source": [
    "# Focus on a time range around the jump\n",
    "check_range = daily_avg[(daily_avg['Date'] >= \"2013-05-01\") & (daily_avg['Date'] <= \"2013-08-01\")]\n",
    "print(check_range)"
   ]
  },
  {
   "cell_type": "code",
   "execution_count": 24,
   "id": "7d1a6d41",
   "metadata": {
    "execution": {
     "iopub.execute_input": "2025-03-19T18:53:55.110160Z",
     "iopub.status.busy": "2025-03-19T18:53:55.109785Z",
     "iopub.status.idle": "2025-03-19T18:53:55.125463Z",
     "shell.execute_reply": "2025-03-19T18:53:55.124087Z"
    },
    "papermill": {
     "duration": 0.030562,
     "end_time": "2025-03-19T18:53:55.127519",
     "exception": false,
     "start_time": "2025-03-19T18:53:55.096957",
     "status": "completed"
    },
    "tags": []
   },
   "outputs": [
    {
     "name": "stdout",
     "output_type": "stream",
     "text": [
      "              CPI  Unemployment\n",
      "count  182.000000    182.000000\n",
      "mean   172.855800      7.747708\n",
      "std      3.689152      0.647174\n",
      "min    167.546485      6.719244\n",
      "25%    168.582724      7.237333\n",
      "50%    173.084948      7.804222\n",
      "75%    176.086612      8.428578\n",
      "max    177.990680      8.619311\n"
     ]
    }
   ],
   "source": [
    "print(daily_avg[['CPI', 'Unemployment']].describe())"
   ]
  },
  {
   "cell_type": "code",
   "execution_count": 25,
   "id": "2a95e543",
   "metadata": {
    "execution": {
     "iopub.execute_input": "2025-03-19T18:53:55.152604Z",
     "iopub.status.busy": "2025-03-19T18:53:55.152169Z",
     "iopub.status.idle": "2025-03-19T18:53:55.162425Z",
     "shell.execute_reply": "2025-03-19T18:53:55.161068Z"
    },
    "papermill": {
     "duration": 0.024843,
     "end_time": "2025-03-19T18:53:55.164234",
     "exception": false,
     "start_time": "2025-03-19T18:53:55.139391",
     "status": "completed"
    },
    "tags": []
   },
   "outputs": [
    {
     "name": "stdout",
     "output_type": "stream",
     "text": [
      "          Date         CPI  Unemployment\n",
      "152 2013-01-04  177.125367      6.876444\n",
      "153 2013-01-11  177.235667      6.876444\n",
      "154 2013-01-18  177.295004      6.876444\n",
      "155 2013-01-25  177.333956      6.876444\n",
      "156 2013-02-01  177.372908      6.876444\n",
      "157 2013-02-08  177.411860      6.876444\n",
      "158 2013-02-15  177.459922      6.876444\n",
      "159 2013-02-22  177.530760      6.876444\n",
      "160 2013-03-01  177.601597      6.876444\n",
      "161 2013-03-08  177.672434      6.876444\n",
      "162 2013-03-15  177.740876      6.876444\n",
      "163 2013-03-22  177.803327      6.876444\n",
      "164 2013-03-29  177.865778      6.876444\n",
      "165 2013-04-05  177.928229      6.719244\n",
      "166 2013-04-12  177.990680      6.719244\n",
      "167 2013-04-19  177.990680      6.719244\n",
      "168 2013-04-26  177.990680      6.719244\n",
      "169 2013-05-03  177.990680      6.719244\n",
      "170 2013-05-10  177.990680      6.719244\n",
      "171 2013-05-17  177.990680      6.719244\n",
      "172 2013-05-24  177.990680      6.719244\n",
      "173 2013-05-31  177.990680      6.719244\n",
      "174 2013-06-07  177.990680      6.719244\n",
      "175 2013-06-14  177.990680      6.719244\n",
      "176 2013-06-21  177.990680      6.719244\n",
      "177 2013-06-28  177.990680      6.719244\n",
      "178 2013-07-05  177.990680      6.719244\n",
      "179 2013-07-12  177.990680      6.719244\n",
      "180 2013-07-19  177.990680      6.719244\n",
      "181 2013-07-26  177.990680      6.719244\n"
     ]
    }
   ],
   "source": [
    "# Check CPI and Unemployment for a wider range to see available data points\n",
    "check_surrounding = daily_avg[(daily_avg['Date'] >= \"2013-01-01\") & (daily_avg['Date'] <= \"2013-12-01\")]\n",
    "print(check_surrounding)"
   ]
  },
  {
   "cell_type": "code",
   "execution_count": 26,
   "id": "653fb833",
   "metadata": {
    "execution": {
     "iopub.execute_input": "2025-03-19T18:53:55.190061Z",
     "iopub.status.busy": "2025-03-19T18:53:55.189681Z",
     "iopub.status.idle": "2025-03-19T18:53:55.206821Z",
     "shell.execute_reply": "2025-03-19T18:53:55.205482Z"
    },
    "papermill": {
     "duration": 0.031997,
     "end_time": "2025-03-19T18:53:55.208832",
     "exception": false,
     "start_time": "2025-03-19T18:53:55.176835",
     "status": "completed"
    },
    "tags": []
   },
   "outputs": [
    {
     "name": "stdout",
     "output_type": "stream",
     "text": [
      "           Date         CPI  Unemployment\n",
      "0    2010-02-05  211.096358         8.106\n",
      "2730 2010-02-05  189.381697         7.039\n",
      "5460 2010-02-05  210.752605         8.324\n",
      "3640 2010-02-05  210.752605         8.324\n",
      "4550 2010-02-05  131.527903         8.488\n",
      "7280 2010-02-05  189.381697         7.541\n",
      "2548 2010-02-05  131.527903         8.350\n",
      "5642 2010-02-05  189.381697         9.014\n",
      "910  2010-02-05  212.622352         7.259\n",
      "3458 2010-02-05  204.247194         8.187\n",
      "1274 2010-02-05  214.471451         6.299\n",
      "2366 2010-02-05  181.871190         8.992\n",
      "5824 2010-02-05  126.442065        10.115\n",
      "4186 2010-02-05  131.527903         8.326\n",
      "4004 2010-02-05  131.527903         5.892\n",
      "6916 2010-02-05  209.852966         8.554\n",
      "4732 2010-02-05  135.352461         8.237\n",
      "7098 2010-02-05  131.527903         5.892\n",
      "3822 2010-02-05  135.352461         8.283\n",
      "1820 2010-02-05  214.424881         7.368\n",
      "           Date         CPI  Unemployment\n",
      "909  2013-07-26  225.766502         5.278\n",
      "7097 2013-07-26  223.836362         6.143\n",
      "1091 2013-07-26  226.802140         5.285\n",
      "6915 2013-07-26  132.716097         9.874\n",
      "5459 2013-07-26  224.802531         6.112\n",
      "1273 2013-07-26  201.070571         6.953\n",
      "1455 2013-07-26  228.779668         5.024\n",
      "6551 2013-07-26  223.836362         6.143\n",
      "1637 2013-07-26  228.976456         4.893\n",
      "6369 2013-07-26  143.220074         8.360\n",
      "1819 2013-07-26  132.716097         6.791\n",
      "6187 2013-07-26  132.716097         8.796\n",
      "4003 2013-07-26  143.220074         7.176\n",
      "2001 2013-07-26  228.729864         5.999\n",
      "2183 2013-07-26  132.716097         9.874\n",
      "5823 2013-07-26  201.070571         6.953\n",
      "2365 2013-07-26  132.716097         5.274\n",
      "5641 2013-07-26  224.802531         6.112\n",
      "6733 2013-07-26  223.836362         6.143\n",
      "8189 2013-07-26  193.589304         8.335\n"
     ]
    }
   ],
   "source": [
    "print(features[['Date', 'CPI', 'Unemployment']].sort_values('Date').head(20))  # Inspect the first 20 rows\n",
    "print(features[['Date', 'CPI', 'Unemployment']].sort_values('Date').tail(20))  # Inspect the last 20 rows"
   ]
  },
  {
   "cell_type": "code",
   "execution_count": 27,
   "id": "dabd7433",
   "metadata": {
    "execution": {
     "iopub.execute_input": "2025-03-19T18:53:55.235009Z",
     "iopub.status.busy": "2025-03-19T18:53:55.234664Z",
     "iopub.status.idle": "2025-03-19T18:53:55.256569Z",
     "shell.execute_reply": "2025-03-19T18:53:55.255136Z"
    },
    "papermill": {
     "duration": 0.037218,
     "end_time": "2025-03-19T18:53:55.258374",
     "exception": false,
     "start_time": "2025-03-19T18:53:55.221156",
     "status": "completed"
    },
    "tags": []
   },
   "outputs": [
    {
     "name": "stdout",
     "output_type": "stream",
     "text": [
      "========================================\n",
      "Feature: Date\n",
      "Unique values: <DatetimeArray>\n",
      "['2010-02-05 00:00:00', '2010-02-12 00:00:00', '2010-02-19 00:00:00',\n",
      " '2010-02-26 00:00:00', '2010-03-05 00:00:00', '2010-03-12 00:00:00',\n",
      " '2010-03-19 00:00:00', '2010-03-26 00:00:00', '2010-04-02 00:00:00',\n",
      " '2010-04-09 00:00:00',\n",
      " ...\n",
      " '2013-05-24 00:00:00', '2013-05-31 00:00:00', '2013-06-07 00:00:00',\n",
      " '2013-06-14 00:00:00', '2013-06-21 00:00:00', '2013-06-28 00:00:00',\n",
      " '2013-07-05 00:00:00', '2013-07-12 00:00:00', '2013-07-19 00:00:00',\n",
      " '2013-07-26 00:00:00']\n",
      "Length: 182, dtype: datetime64[ns]\n",
      "======================================== \n",
      "\n",
      "========================================\n",
      "Feature: Store\n",
      "Min: 1\n",
      "Max: 45\n",
      "Range: 44\n",
      "======================================== \n",
      "\n",
      "========================================\n",
      "Feature: Temperature\n",
      "Min: -7.29\n",
      "Max: 101.95\n",
      "Range: 109.24000000000001\n",
      "======================================== \n",
      "\n",
      "========================================\n",
      "Feature: Fuel_Price\n",
      "Min: 2.472\n",
      "Max: 4.468\n",
      "Range: 1.996\n",
      "======================================== \n",
      "\n",
      "========================================\n",
      "Feature: MarkDown1\n",
      "Min: -2781.45\n",
      "Max: 103184.98\n",
      "Range: 105966.43\n",
      "======================================== \n",
      "\n",
      "========================================\n",
      "Feature: MarkDown2\n",
      "Min: -265.76\n",
      "Max: 104519.54\n",
      "Range: 104785.29999999999\n",
      "======================================== \n",
      "\n",
      "========================================\n",
      "Feature: MarkDown3\n",
      "Min: -179.26\n",
      "Max: 149483.31\n",
      "Range: 149662.57\n",
      "======================================== \n",
      "\n",
      "========================================\n",
      "Feature: MarkDown4\n",
      "Min: 0.0\n",
      "Max: 67474.85\n",
      "Range: 67474.85\n",
      "======================================== \n",
      "\n",
      "========================================\n",
      "Feature: MarkDown5\n",
      "Min: -185.17\n",
      "Max: 771448.1\n",
      "Range: 771633.27\n",
      "======================================== \n",
      "\n",
      "========================================\n",
      "Feature: CPI\n",
      "Min: 126.064\n",
      "Max: 228.9764563\n",
      "Range: 102.9124563\n",
      "======================================== \n",
      "\n",
      "========================================\n",
      "Feature: Unemployment\n",
      "Min: 3.684\n",
      "Max: 14.313\n",
      "Range: 10.629000000000001\n",
      "======================================== \n",
      "\n",
      "========================================\n",
      "Feature: IsHoliday\n",
      "Unique values: [False  True]\n",
      "======================================== \n",
      "\n"
     ]
    }
   ],
   "source": [
    "display_feature_range(features)"
   ]
  },
  {
   "cell_type": "markdown",
   "id": "93bc929d",
   "metadata": {
    "papermill": {
     "duration": 0.012371,
     "end_time": "2025-03-19T18:53:55.283149",
     "exception": false,
     "start_time": "2025-03-19T18:53:55.270778",
     "status": "completed"
    },
    "tags": []
   },
   "source": [
    "### Train/Test Data"
   ]
  },
  {
   "cell_type": "code",
   "execution_count": 28,
   "id": "a0db9294",
   "metadata": {
    "execution": {
     "iopub.execute_input": "2025-03-19T18:53:55.308789Z",
     "iopub.status.busy": "2025-03-19T18:53:55.308357Z",
     "iopub.status.idle": "2025-03-19T18:53:55.319086Z",
     "shell.execute_reply": "2025-03-19T18:53:55.318029Z"
    },
    "papermill": {
     "duration": 0.025498,
     "end_time": "2025-03-19T18:53:55.320803",
     "exception": false,
     "start_time": "2025-03-19T18:53:55.295305",
     "status": "completed"
    },
    "tags": []
   },
   "outputs": [
    {
     "data": {
      "text/html": [
       "<div>\n",
       "<style scoped>\n",
       "    .dataframe tbody tr th:only-of-type {\n",
       "        vertical-align: middle;\n",
       "    }\n",
       "\n",
       "    .dataframe tbody tr th {\n",
       "        vertical-align: top;\n",
       "    }\n",
       "\n",
       "    .dataframe thead th {\n",
       "        text-align: right;\n",
       "    }\n",
       "</style>\n",
       "<table border=\"1\" class=\"dataframe\">\n",
       "  <thead>\n",
       "    <tr style=\"text-align: right;\">\n",
       "      <th></th>\n",
       "      <th>Store</th>\n",
       "      <th>Dept</th>\n",
       "      <th>Date</th>\n",
       "      <th>Weekly_Sales</th>\n",
       "      <th>IsHoliday</th>\n",
       "    </tr>\n",
       "  </thead>\n",
       "  <tbody>\n",
       "    <tr>\n",
       "      <th>0</th>\n",
       "      <td>1</td>\n",
       "      <td>1</td>\n",
       "      <td>2010-02-05</td>\n",
       "      <td>24924.50</td>\n",
       "      <td>False</td>\n",
       "    </tr>\n",
       "    <tr>\n",
       "      <th>1</th>\n",
       "      <td>1</td>\n",
       "      <td>1</td>\n",
       "      <td>2010-02-12</td>\n",
       "      <td>46039.49</td>\n",
       "      <td>True</td>\n",
       "    </tr>\n",
       "    <tr>\n",
       "      <th>2</th>\n",
       "      <td>1</td>\n",
       "      <td>1</td>\n",
       "      <td>2010-02-19</td>\n",
       "      <td>41595.55</td>\n",
       "      <td>False</td>\n",
       "    </tr>\n",
       "    <tr>\n",
       "      <th>3</th>\n",
       "      <td>1</td>\n",
       "      <td>1</td>\n",
       "      <td>2010-02-26</td>\n",
       "      <td>19403.54</td>\n",
       "      <td>False</td>\n",
       "    </tr>\n",
       "    <tr>\n",
       "      <th>4</th>\n",
       "      <td>1</td>\n",
       "      <td>1</td>\n",
       "      <td>2010-03-05</td>\n",
       "      <td>21827.90</td>\n",
       "      <td>False</td>\n",
       "    </tr>\n",
       "  </tbody>\n",
       "</table>\n",
       "</div>"
      ],
      "text/plain": [
       "   Store  Dept       Date  Weekly_Sales  IsHoliday\n",
       "0      1     1 2010-02-05      24924.50      False\n",
       "1      1     1 2010-02-12      46039.49       True\n",
       "2      1     1 2010-02-19      41595.55      False\n",
       "3      1     1 2010-02-26      19403.54      False\n",
       "4      1     1 2010-03-05      21827.90      False"
      ]
     },
     "execution_count": 28,
     "metadata": {},
     "output_type": "execute_result"
    }
   ],
   "source": [
    "train.head()"
   ]
  },
  {
   "cell_type": "code",
   "execution_count": 29,
   "id": "97ffdc3f",
   "metadata": {
    "execution": {
     "iopub.execute_input": "2025-03-19T18:53:55.348873Z",
     "iopub.status.busy": "2025-03-19T18:53:55.348323Z",
     "iopub.status.idle": "2025-03-19T18:53:55.359541Z",
     "shell.execute_reply": "2025-03-19T18:53:55.358456Z"
    },
    "papermill": {
     "duration": 0.027445,
     "end_time": "2025-03-19T18:53:55.361328",
     "exception": false,
     "start_time": "2025-03-19T18:53:55.333883",
     "status": "completed"
    },
    "tags": []
   },
   "outputs": [
    {
     "data": {
      "text/html": [
       "<div>\n",
       "<style scoped>\n",
       "    .dataframe tbody tr th:only-of-type {\n",
       "        vertical-align: middle;\n",
       "    }\n",
       "\n",
       "    .dataframe tbody tr th {\n",
       "        vertical-align: top;\n",
       "    }\n",
       "\n",
       "    .dataframe thead th {\n",
       "        text-align: right;\n",
       "    }\n",
       "</style>\n",
       "<table border=\"1\" class=\"dataframe\">\n",
       "  <thead>\n",
       "    <tr style=\"text-align: right;\">\n",
       "      <th></th>\n",
       "      <th>Store</th>\n",
       "      <th>Dept</th>\n",
       "      <th>Date</th>\n",
       "      <th>Weekly_Sales</th>\n",
       "      <th>IsHoliday</th>\n",
       "    </tr>\n",
       "  </thead>\n",
       "  <tbody>\n",
       "    <tr>\n",
       "      <th>421565</th>\n",
       "      <td>45</td>\n",
       "      <td>98</td>\n",
       "      <td>2012-09-28</td>\n",
       "      <td>508.37</td>\n",
       "      <td>False</td>\n",
       "    </tr>\n",
       "    <tr>\n",
       "      <th>421566</th>\n",
       "      <td>45</td>\n",
       "      <td>98</td>\n",
       "      <td>2012-10-05</td>\n",
       "      <td>628.10</td>\n",
       "      <td>False</td>\n",
       "    </tr>\n",
       "    <tr>\n",
       "      <th>421567</th>\n",
       "      <td>45</td>\n",
       "      <td>98</td>\n",
       "      <td>2012-10-12</td>\n",
       "      <td>1061.02</td>\n",
       "      <td>False</td>\n",
       "    </tr>\n",
       "    <tr>\n",
       "      <th>421568</th>\n",
       "      <td>45</td>\n",
       "      <td>98</td>\n",
       "      <td>2012-10-19</td>\n",
       "      <td>760.01</td>\n",
       "      <td>False</td>\n",
       "    </tr>\n",
       "    <tr>\n",
       "      <th>421569</th>\n",
       "      <td>45</td>\n",
       "      <td>98</td>\n",
       "      <td>2012-10-26</td>\n",
       "      <td>1076.80</td>\n",
       "      <td>False</td>\n",
       "    </tr>\n",
       "  </tbody>\n",
       "</table>\n",
       "</div>"
      ],
      "text/plain": [
       "        Store  Dept       Date  Weekly_Sales  IsHoliday\n",
       "421565     45    98 2012-09-28        508.37      False\n",
       "421566     45    98 2012-10-05        628.10      False\n",
       "421567     45    98 2012-10-12       1061.02      False\n",
       "421568     45    98 2012-10-19        760.01      False\n",
       "421569     45    98 2012-10-26       1076.80      False"
      ]
     },
     "execution_count": 29,
     "metadata": {},
     "output_type": "execute_result"
    }
   ],
   "source": [
    "train.tail()"
   ]
  },
  {
   "cell_type": "code",
   "execution_count": 30,
   "id": "9c1a7fff",
   "metadata": {
    "execution": {
     "iopub.execute_input": "2025-03-19T18:53:55.389532Z",
     "iopub.status.busy": "2025-03-19T18:53:55.389144Z",
     "iopub.status.idle": "2025-03-19T18:53:55.412958Z",
     "shell.execute_reply": "2025-03-19T18:53:55.411076Z"
    },
    "papermill": {
     "duration": 0.040201,
     "end_time": "2025-03-19T18:53:55.415283",
     "exception": false,
     "start_time": "2025-03-19T18:53:55.375082",
     "status": "completed"
    },
    "tags": []
   },
   "outputs": [
    {
     "name": "stdout",
     "output_type": "stream",
     "text": [
      "<class 'pandas.core.frame.DataFrame'>\n",
      "RangeIndex: 421570 entries, 0 to 421569\n",
      "Data columns (total 5 columns):\n",
      " #   Column        Non-Null Count   Dtype         \n",
      "---  ------        --------------   -----         \n",
      " 0   Store         421570 non-null  int64         \n",
      " 1   Dept          421570 non-null  int64         \n",
      " 2   Date          421570 non-null  datetime64[ns]\n",
      " 3   Weekly_Sales  421570 non-null  float64       \n",
      " 4   IsHoliday     421570 non-null  bool          \n",
      "dtypes: bool(1), datetime64[ns](1), float64(1), int64(2)\n",
      "memory usage: 13.3 MB\n"
     ]
    }
   ],
   "source": [
    "train.info()"
   ]
  },
  {
   "cell_type": "code",
   "execution_count": 31,
   "id": "4e0d9245",
   "metadata": {
    "execution": {
     "iopub.execute_input": "2025-03-19T18:53:55.444325Z",
     "iopub.status.busy": "2025-03-19T18:53:55.443936Z",
     "iopub.status.idle": "2025-03-19T18:53:55.456379Z",
     "shell.execute_reply": "2025-03-19T18:53:55.454686Z"
    },
    "papermill": {
     "duration": 0.028173,
     "end_time": "2025-03-19T18:53:55.458270",
     "exception": false,
     "start_time": "2025-03-19T18:53:55.430097",
     "status": "completed"
    },
    "tags": []
   },
   "outputs": [
    {
     "name": "stdout",
     "output_type": "stream",
     "text": [
      "<class 'pandas.core.frame.DataFrame'>\n",
      "RangeIndex: 115064 entries, 0 to 115063\n",
      "Data columns (total 4 columns):\n",
      " #   Column     Non-Null Count   Dtype         \n",
      "---  ------     --------------   -----         \n",
      " 0   Store      115064 non-null  int64         \n",
      " 1   Dept       115064 non-null  int64         \n",
      " 2   Date       115064 non-null  datetime64[ns]\n",
      " 3   IsHoliday  115064 non-null  bool          \n",
      "dtypes: bool(1), datetime64[ns](1), int64(2)\n",
      "memory usage: 2.7 MB\n"
     ]
    }
   ],
   "source": [
    "test.info()"
   ]
  },
  {
   "cell_type": "code",
   "execution_count": 32,
   "id": "795295c6",
   "metadata": {
    "execution": {
     "iopub.execute_input": "2025-03-19T18:53:55.487129Z",
     "iopub.status.busy": "2025-03-19T18:53:55.486766Z",
     "iopub.status.idle": "2025-03-19T18:53:55.507787Z",
     "shell.execute_reply": "2025-03-19T18:53:55.506275Z"
    },
    "papermill": {
     "duration": 0.03812,
     "end_time": "2025-03-19T18:53:55.509824",
     "exception": false,
     "start_time": "2025-03-19T18:53:55.471704",
     "status": "completed"
    },
    "tags": []
   },
   "outputs": [
    {
     "name": "stdout",
     "output_type": "stream",
     "text": [
      "========================================\n",
      "Feature: Store\n",
      "Min: 1\n",
      "Max: 45\n",
      "Range: 44\n",
      "======================================== \n",
      "\n",
      "========================================\n",
      "Feature: Dept\n",
      "Min: 1\n",
      "Max: 99\n",
      "Range: 98\n",
      "======================================== \n",
      "\n",
      "========================================\n",
      "Feature: Date\n",
      "Unique values: <DatetimeArray>\n",
      "['2010-02-05 00:00:00', '2010-02-12 00:00:00', '2010-02-19 00:00:00',\n",
      " '2010-02-26 00:00:00', '2010-03-05 00:00:00', '2010-03-12 00:00:00',\n",
      " '2010-03-19 00:00:00', '2010-03-26 00:00:00', '2010-04-02 00:00:00',\n",
      " '2010-04-09 00:00:00',\n",
      " ...\n",
      " '2012-08-24 00:00:00', '2012-08-31 00:00:00', '2012-09-07 00:00:00',\n",
      " '2012-09-14 00:00:00', '2012-09-21 00:00:00', '2012-09-28 00:00:00',\n",
      " '2012-10-05 00:00:00', '2012-10-12 00:00:00', '2012-10-19 00:00:00',\n",
      " '2012-10-26 00:00:00']\n",
      "Length: 143, dtype: datetime64[ns]\n",
      "======================================== \n",
      "\n",
      "========================================\n",
      "Feature: Weekly_Sales\n",
      "Min: -4988.94\n",
      "Max: 693099.36\n",
      "Range: 698088.2999999999\n",
      "======================================== \n",
      "\n",
      "========================================\n",
      "Feature: IsHoliday\n",
      "Unique values: [False  True]\n",
      "======================================== \n",
      "\n"
     ]
    }
   ],
   "source": [
    "display_feature_range(train)"
   ]
  },
  {
   "cell_type": "markdown",
   "id": "07b33654",
   "metadata": {
    "papermill": {
     "duration": 0.015369,
     "end_time": "2025-03-19T18:53:55.538966",
     "exception": false,
     "start_time": "2025-03-19T18:53:55.523597",
     "status": "completed"
    },
    "tags": []
   },
   "source": [
    "# <span style=\"color:#5E6997\">Conclusion</span> <a class=\"anchor\" id=\"conclusion\"></a>"
   ]
  },
  {
   "cell_type": "code",
   "execution_count": null,
   "id": "10965d93",
   "metadata": {
    "papermill": {
     "duration": 0.014898,
     "end_time": "2025-03-19T18:53:55.571312",
     "exception": false,
     "start_time": "2025-03-19T18:53:55.556414",
     "status": "completed"
    },
    "tags": []
   },
   "outputs": [],
   "source": []
  }
 ],
 "metadata": {
  "kaggle": {
   "accelerator": "none",
   "dataSources": [
    {
     "datasetId": 2107830,
     "sourceId": 3502310,
     "sourceType": "datasetVersion"
    }
   ],
   "dockerImageVersionId": 30918,
   "isGpuEnabled": false,
   "isInternetEnabled": true,
   "language": "python",
   "sourceType": "notebook"
  },
  "kernelspec": {
   "display_name": "Python 3",
   "language": "python",
   "name": "python3"
  },
  "language_info": {
   "codemirror_mode": {
    "name": "ipython",
    "version": 3
   },
   "file_extension": ".py",
   "mimetype": "text/x-python",
   "name": "python",
   "nbconvert_exporter": "python",
   "pygments_lexer": "ipython3",
   "version": "3.10.12"
  },
  "papermill": {
   "default_parameters": {},
   "duration": 8.72705,
   "end_time": "2025-03-19T18:53:56.208690",
   "environment_variables": {},
   "exception": null,
   "input_path": "__notebook__.ipynb",
   "output_path": "__notebook__.ipynb",
   "parameters": {},
   "start_time": "2025-03-19T18:53:47.481640",
   "version": "2.6.0"
  }
 },
 "nbformat": 4,
 "nbformat_minor": 5
}
