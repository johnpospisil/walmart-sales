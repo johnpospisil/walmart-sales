{
 "cells": [
  {
   "cell_type": "code",
   "execution_count": 1,
   "id": "3fd12ff5",
   "metadata": {
    "_cell_guid": "b1076dfc-b9ad-4769-8c92-a6c4dae69d19",
    "_uuid": "8f2839f25d086af736a60e9eeb907d3b93b6e0e5",
    "execution": {
     "iopub.execute_input": "2025-03-18T20:23:31.407122Z",
     "iopub.status.busy": "2025-03-18T20:23:31.406573Z",
     "iopub.status.idle": "2025-03-18T20:23:32.601781Z",
     "shell.execute_reply": "2025-03-18T20:23:32.600130Z"
    },
    "papermill": {
     "duration": 1.204832,
     "end_time": "2025-03-18T20:23:32.604467",
     "exception": false,
     "start_time": "2025-03-18T20:23:31.399635",
     "status": "completed"
    },
    "tags": []
   },
   "outputs": [
    {
     "name": "stdout",
     "output_type": "stream",
     "text": [
      "/kaggle/input/walmart-sales-forecast/features.csv\n",
      "/kaggle/input/walmart-sales-forecast/stores.csv\n",
      "/kaggle/input/walmart-sales-forecast/train.csv\n",
      "/kaggle/input/walmart-sales-forecast/test.csv\n"
     ]
    }
   ],
   "source": [
    "# This Python 3 environment comes with many helpful analytics libraries installed\n",
    "# It is defined by the kaggle/python Docker image: https://github.com/kaggle/docker-python\n",
    "# For example, here's several helpful packages to load\n",
    "\n",
    "import numpy as np # linear algebra\n",
    "import pandas as pd # data processing, CSV file I/O (e.g. pd.read_csv)\n",
    "\n",
    "# Input data files are available in the read-only \"../input/\" directory\n",
    "# For example, running this (by clicking run or pressing Shift+Enter) will list all files under the input directory\n",
    "\n",
    "import os\n",
    "for dirname, _, filenames in os.walk('/kaggle/input'):\n",
    "    for filename in filenames:\n",
    "        print(os.path.join(dirname, filename))\n",
    "\n",
    "# You can write up to 20GB to the current directory (/kaggle/working/) that gets preserved as output when you create a version using \"Save & Run All\" \n",
    "# You can also write temporary files to /kaggle/temp/, but they won't be saved outside of the current session"
   ]
  },
  {
   "cell_type": "code",
   "execution_count": 2,
   "id": "48379eb0",
   "metadata": {
    "execution": {
     "iopub.execute_input": "2025-03-18T20:23:32.618339Z",
     "iopub.status.busy": "2025-03-18T20:23:32.617084Z",
     "iopub.status.idle": "2025-03-18T20:23:33.238198Z",
     "shell.execute_reply": "2025-03-18T20:23:33.236866Z"
    },
    "papermill": {
     "duration": 0.630617,
     "end_time": "2025-03-18T20:23:33.240434",
     "exception": false,
     "start_time": "2025-03-18T20:23:32.609817",
     "status": "completed"
    },
    "tags": []
   },
   "outputs": [],
   "source": [
    "# Define file paths\n",
    "features_path = \"/kaggle/input/walmart-sales-forecast/features.csv\"\n",
    "stores_path   = \"/kaggle/input/walmart-sales-forecast/stores.csv\"\n",
    "train_path    = \"/kaggle/input/walmart-sales-forecast/train.csv\"\n",
    "test_path     = \"/kaggle/input/walmart-sales-forecast/test.csv\"\n",
    "\n",
    "# Load datasets\n",
    "features = pd.read_csv(features_path)\n",
    "stores   = pd.read_csv(stores_path)\n",
    "train    = pd.read_csv(train_path)\n",
    "test     = pd.read_csv(test_path)"
   ]
  },
  {
   "cell_type": "code",
   "execution_count": 3,
   "id": "9b7cbf0c",
   "metadata": {
    "execution": {
     "iopub.execute_input": "2025-03-18T20:23:33.252083Z",
     "iopub.status.busy": "2025-03-18T20:23:33.251591Z",
     "iopub.status.idle": "2025-03-18T20:23:33.345514Z",
     "shell.execute_reply": "2025-03-18T20:23:33.344209Z"
    },
    "papermill": {
     "duration": 0.102395,
     "end_time": "2025-03-18T20:23:33.347800",
     "exception": false,
     "start_time": "2025-03-18T20:23:33.245405",
     "status": "completed"
    },
    "tags": []
   },
   "outputs": [],
   "source": [
    "# Convert the 'Date' column to datetime format\n",
    "train[\"Date\"] = pd.to_datetime(train[\"Date\"], format=\"%Y-%m-%d\")\n",
    "test[\"Date\"] = pd.to_datetime(test[\"Date\"], format=\"%Y-%m-%d\")\n",
    "features[\"Date\"] = pd.to_datetime(features[\"Date\"], format=\"%Y-%m-%d\")"
   ]
  },
  {
   "cell_type": "markdown",
   "id": "9666ed7d",
   "metadata": {
    "papermill": {
     "duration": 0.005958,
     "end_time": "2025-03-18T20:23:33.359417",
     "exception": false,
     "start_time": "2025-03-18T20:23:33.353459",
     "status": "completed"
    },
    "tags": []
   },
   "source": [
    "### Store Data"
   ]
  },
  {
   "cell_type": "code",
   "execution_count": 4,
   "id": "e22dac03",
   "metadata": {
    "execution": {
     "iopub.execute_input": "2025-03-18T20:23:33.372120Z",
     "iopub.status.busy": "2025-03-18T20:23:33.371631Z",
     "iopub.status.idle": "2025-03-18T20:23:33.394247Z",
     "shell.execute_reply": "2025-03-18T20:23:33.393064Z"
    },
    "papermill": {
     "duration": 0.031343,
     "end_time": "2025-03-18T20:23:33.396034",
     "exception": false,
     "start_time": "2025-03-18T20:23:33.364691",
     "status": "completed"
    },
    "tags": []
   },
   "outputs": [
    {
     "data": {
      "text/html": [
       "<div>\n",
       "<style scoped>\n",
       "    .dataframe tbody tr th:only-of-type {\n",
       "        vertical-align: middle;\n",
       "    }\n",
       "\n",
       "    .dataframe tbody tr th {\n",
       "        vertical-align: top;\n",
       "    }\n",
       "\n",
       "    .dataframe thead th {\n",
       "        text-align: right;\n",
       "    }\n",
       "</style>\n",
       "<table border=\"1\" class=\"dataframe\">\n",
       "  <thead>\n",
       "    <tr style=\"text-align: right;\">\n",
       "      <th></th>\n",
       "      <th>Store</th>\n",
       "      <th>Type</th>\n",
       "      <th>Size</th>\n",
       "    </tr>\n",
       "  </thead>\n",
       "  <tbody>\n",
       "    <tr>\n",
       "      <th>0</th>\n",
       "      <td>1</td>\n",
       "      <td>A</td>\n",
       "      <td>151315</td>\n",
       "    </tr>\n",
       "    <tr>\n",
       "      <th>1</th>\n",
       "      <td>2</td>\n",
       "      <td>A</td>\n",
       "      <td>202307</td>\n",
       "    </tr>\n",
       "    <tr>\n",
       "      <th>2</th>\n",
       "      <td>3</td>\n",
       "      <td>B</td>\n",
       "      <td>37392</td>\n",
       "    </tr>\n",
       "    <tr>\n",
       "      <th>3</th>\n",
       "      <td>4</td>\n",
       "      <td>A</td>\n",
       "      <td>205863</td>\n",
       "    </tr>\n",
       "    <tr>\n",
       "      <th>4</th>\n",
       "      <td>5</td>\n",
       "      <td>B</td>\n",
       "      <td>34875</td>\n",
       "    </tr>\n",
       "  </tbody>\n",
       "</table>\n",
       "</div>"
      ],
      "text/plain": [
       "   Store Type    Size\n",
       "0      1    A  151315\n",
       "1      2    A  202307\n",
       "2      3    B   37392\n",
       "3      4    A  205863\n",
       "4      5    B   34875"
      ]
     },
     "execution_count": 4,
     "metadata": {},
     "output_type": "execute_result"
    }
   ],
   "source": [
    "stores.head()"
   ]
  },
  {
   "cell_type": "code",
   "execution_count": 5,
   "id": "d2cf6c84",
   "metadata": {
    "execution": {
     "iopub.execute_input": "2025-03-18T20:23:33.407242Z",
     "iopub.status.busy": "2025-03-18T20:23:33.406848Z",
     "iopub.status.idle": "2025-03-18T20:23:33.416460Z",
     "shell.execute_reply": "2025-03-18T20:23:33.415489Z"
    },
    "papermill": {
     "duration": 0.017089,
     "end_time": "2025-03-18T20:23:33.418247",
     "exception": false,
     "start_time": "2025-03-18T20:23:33.401158",
     "status": "completed"
    },
    "tags": []
   },
   "outputs": [
    {
     "data": {
      "text/html": [
       "<div>\n",
       "<style scoped>\n",
       "    .dataframe tbody tr th:only-of-type {\n",
       "        vertical-align: middle;\n",
       "    }\n",
       "\n",
       "    .dataframe tbody tr th {\n",
       "        vertical-align: top;\n",
       "    }\n",
       "\n",
       "    .dataframe thead th {\n",
       "        text-align: right;\n",
       "    }\n",
       "</style>\n",
       "<table border=\"1\" class=\"dataframe\">\n",
       "  <thead>\n",
       "    <tr style=\"text-align: right;\">\n",
       "      <th></th>\n",
       "      <th>Store</th>\n",
       "      <th>Type</th>\n",
       "      <th>Size</th>\n",
       "    </tr>\n",
       "  </thead>\n",
       "  <tbody>\n",
       "    <tr>\n",
       "      <th>40</th>\n",
       "      <td>41</td>\n",
       "      <td>A</td>\n",
       "      <td>196321</td>\n",
       "    </tr>\n",
       "    <tr>\n",
       "      <th>41</th>\n",
       "      <td>42</td>\n",
       "      <td>C</td>\n",
       "      <td>39690</td>\n",
       "    </tr>\n",
       "    <tr>\n",
       "      <th>42</th>\n",
       "      <td>43</td>\n",
       "      <td>C</td>\n",
       "      <td>41062</td>\n",
       "    </tr>\n",
       "    <tr>\n",
       "      <th>43</th>\n",
       "      <td>44</td>\n",
       "      <td>C</td>\n",
       "      <td>39910</td>\n",
       "    </tr>\n",
       "    <tr>\n",
       "      <th>44</th>\n",
       "      <td>45</td>\n",
       "      <td>B</td>\n",
       "      <td>118221</td>\n",
       "    </tr>\n",
       "  </tbody>\n",
       "</table>\n",
       "</div>"
      ],
      "text/plain": [
       "    Store Type    Size\n",
       "40     41    A  196321\n",
       "41     42    C   39690\n",
       "42     43    C   41062\n",
       "43     44    C   39910\n",
       "44     45    B  118221"
      ]
     },
     "execution_count": 5,
     "metadata": {},
     "output_type": "execute_result"
    }
   ],
   "source": [
    "stores.tail()"
   ]
  },
  {
   "cell_type": "code",
   "execution_count": 6,
   "id": "e07a5e6e",
   "metadata": {
    "execution": {
     "iopub.execute_input": "2025-03-18T20:23:33.430096Z",
     "iopub.status.busy": "2025-03-18T20:23:33.429674Z",
     "iopub.status.idle": "2025-03-18T20:23:33.454058Z",
     "shell.execute_reply": "2025-03-18T20:23:33.452534Z"
    },
    "papermill": {
     "duration": 0.032031,
     "end_time": "2025-03-18T20:23:33.455837",
     "exception": false,
     "start_time": "2025-03-18T20:23:33.423806",
     "status": "completed"
    },
    "tags": []
   },
   "outputs": [
    {
     "name": "stdout",
     "output_type": "stream",
     "text": [
      "<class 'pandas.core.frame.DataFrame'>\n",
      "RangeIndex: 45 entries, 0 to 44\n",
      "Data columns (total 3 columns):\n",
      " #   Column  Non-Null Count  Dtype \n",
      "---  ------  --------------  ----- \n",
      " 0   Store   45 non-null     int64 \n",
      " 1   Type    45 non-null     object\n",
      " 2   Size    45 non-null     int64 \n",
      "dtypes: int64(2), object(1)\n",
      "memory usage: 1.2+ KB\n"
     ]
    }
   ],
   "source": [
    "stores.info()"
   ]
  },
  {
   "cell_type": "code",
   "execution_count": 7,
   "id": "46ff1d30",
   "metadata": {
    "execution": {
     "iopub.execute_input": "2025-03-18T20:23:33.467613Z",
     "iopub.status.busy": "2025-03-18T20:23:33.467283Z",
     "iopub.status.idle": "2025-03-18T20:23:33.473553Z",
     "shell.execute_reply": "2025-03-18T20:23:33.472540Z"
    },
    "papermill": {
     "duration": 0.014059,
     "end_time": "2025-03-18T20:23:33.475264",
     "exception": false,
     "start_time": "2025-03-18T20:23:33.461205",
     "status": "completed"
    },
    "tags": []
   },
   "outputs": [],
   "source": [
    "def display_feature_range(df):\n",
    "    \"\"\"\n",
    "    Display the range of values for each column in a DataFrame.\n",
    "    For numeric (non-boolean) columns, prints the minimum, maximum, and range.\n",
    "    For non-numeric or boolean columns, prints the unique values.\n",
    "    \"\"\"\n",
    "    for col in df.columns:\n",
    "        print(\"=\" * 40)\n",
    "        print(f\"Feature: {col}\")\n",
    "        \n",
    "        # Check for numeric columns excluding booleans\n",
    "        if pd.api.types.is_numeric_dtype(df[col]) and not pd.api.types.is_bool_dtype(df[col]):\n",
    "            col_min = df[col].min()\n",
    "            col_max = df[col].max()\n",
    "            print(f\"Min: {col_min}\")\n",
    "            print(f\"Max: {col_max}\")\n",
    "            print(f\"Range: {col_max - col_min}\")\n",
    "        else:\n",
    "            unique_vals = df[col].unique()\n",
    "            print(\"Unique values:\", unique_vals)\n",
    "        print(\"=\" * 40, \"\\n\")"
   ]
  },
  {
   "cell_type": "code",
   "execution_count": 8,
   "id": "04097a8a",
   "metadata": {
    "execution": {
     "iopub.execute_input": "2025-03-18T20:23:33.487289Z",
     "iopub.status.busy": "2025-03-18T20:23:33.486896Z",
     "iopub.status.idle": "2025-03-18T20:23:33.496467Z",
     "shell.execute_reply": "2025-03-18T20:23:33.495038Z"
    },
    "papermill": {
     "duration": 0.018119,
     "end_time": "2025-03-18T20:23:33.498561",
     "exception": false,
     "start_time": "2025-03-18T20:23:33.480442",
     "status": "completed"
    },
    "tags": []
   },
   "outputs": [
    {
     "name": "stdout",
     "output_type": "stream",
     "text": [
      "========================================\n",
      "Feature: Store\n",
      "Min: 1\n",
      "Max: 45\n",
      "Range: 44\n",
      "======================================== \n",
      "\n",
      "========================================\n",
      "Feature: Type\n",
      "Unique values: ['A' 'B' 'C']\n",
      "======================================== \n",
      "\n",
      "========================================\n",
      "Feature: Size\n",
      "Min: 34875\n",
      "Max: 219622\n",
      "Range: 184747\n",
      "======================================== \n",
      "\n"
     ]
    }
   ],
   "source": [
    "# Call the function with the stores dataset\n",
    "display_feature_range(stores)"
   ]
  },
  {
   "cell_type": "markdown",
   "id": "fb7bb6cf",
   "metadata": {
    "papermill": {
     "duration": 0.005106,
     "end_time": "2025-03-18T20:23:33.509118",
     "exception": false,
     "start_time": "2025-03-18T20:23:33.504012",
     "status": "completed"
    },
    "tags": []
   },
   "source": [
    "### Features Data"
   ]
  },
  {
   "cell_type": "code",
   "execution_count": 9,
   "id": "77c4a95f",
   "metadata": {
    "execution": {
     "iopub.execute_input": "2025-03-18T20:23:33.521367Z",
     "iopub.status.busy": "2025-03-18T20:23:33.520997Z",
     "iopub.status.idle": "2025-03-18T20:23:33.526008Z",
     "shell.execute_reply": "2025-03-18T20:23:33.524493Z"
    },
    "papermill": {
     "duration": 0.013463,
     "end_time": "2025-03-18T20:23:33.527993",
     "exception": false,
     "start_time": "2025-03-18T20:23:33.514530",
     "status": "completed"
    },
    "tags": []
   },
   "outputs": [],
   "source": [
    "import warnings\n",
    "warnings.filterwarnings(\"ignore\", category=RuntimeWarning)"
   ]
  },
  {
   "cell_type": "code",
   "execution_count": 10,
   "id": "a7f17b6d",
   "metadata": {
    "execution": {
     "iopub.execute_input": "2025-03-18T20:23:33.541923Z",
     "iopub.status.busy": "2025-03-18T20:23:33.541525Z",
     "iopub.status.idle": "2025-03-18T20:23:33.560632Z",
     "shell.execute_reply": "2025-03-18T20:23:33.559413Z"
    },
    "papermill": {
     "duration": 0.029005,
     "end_time": "2025-03-18T20:23:33.562527",
     "exception": false,
     "start_time": "2025-03-18T20:23:33.533522",
     "status": "completed"
    },
    "tags": []
   },
   "outputs": [
    {
     "data": {
      "text/html": [
       "<div>\n",
       "<style scoped>\n",
       "    .dataframe tbody tr th:only-of-type {\n",
       "        vertical-align: middle;\n",
       "    }\n",
       "\n",
       "    .dataframe tbody tr th {\n",
       "        vertical-align: top;\n",
       "    }\n",
       "\n",
       "    .dataframe thead th {\n",
       "        text-align: right;\n",
       "    }\n",
       "</style>\n",
       "<table border=\"1\" class=\"dataframe\">\n",
       "  <thead>\n",
       "    <tr style=\"text-align: right;\">\n",
       "      <th></th>\n",
       "      <th>Store</th>\n",
       "      <th>Date</th>\n",
       "      <th>Temperature</th>\n",
       "      <th>Fuel_Price</th>\n",
       "      <th>MarkDown1</th>\n",
       "      <th>MarkDown2</th>\n",
       "      <th>MarkDown3</th>\n",
       "      <th>MarkDown4</th>\n",
       "      <th>MarkDown5</th>\n",
       "      <th>CPI</th>\n",
       "      <th>Unemployment</th>\n",
       "      <th>IsHoliday</th>\n",
       "    </tr>\n",
       "  </thead>\n",
       "  <tbody>\n",
       "    <tr>\n",
       "      <th>0</th>\n",
       "      <td>1</td>\n",
       "      <td>2010-02-05</td>\n",
       "      <td>42.31</td>\n",
       "      <td>2.572</td>\n",
       "      <td>NaN</td>\n",
       "      <td>NaN</td>\n",
       "      <td>NaN</td>\n",
       "      <td>NaN</td>\n",
       "      <td>NaN</td>\n",
       "      <td>211.096358</td>\n",
       "      <td>8.106</td>\n",
       "      <td>False</td>\n",
       "    </tr>\n",
       "    <tr>\n",
       "      <th>1</th>\n",
       "      <td>1</td>\n",
       "      <td>2010-02-12</td>\n",
       "      <td>38.51</td>\n",
       "      <td>2.548</td>\n",
       "      <td>NaN</td>\n",
       "      <td>NaN</td>\n",
       "      <td>NaN</td>\n",
       "      <td>NaN</td>\n",
       "      <td>NaN</td>\n",
       "      <td>211.242170</td>\n",
       "      <td>8.106</td>\n",
       "      <td>True</td>\n",
       "    </tr>\n",
       "    <tr>\n",
       "      <th>2</th>\n",
       "      <td>1</td>\n",
       "      <td>2010-02-19</td>\n",
       "      <td>39.93</td>\n",
       "      <td>2.514</td>\n",
       "      <td>NaN</td>\n",
       "      <td>NaN</td>\n",
       "      <td>NaN</td>\n",
       "      <td>NaN</td>\n",
       "      <td>NaN</td>\n",
       "      <td>211.289143</td>\n",
       "      <td>8.106</td>\n",
       "      <td>False</td>\n",
       "    </tr>\n",
       "    <tr>\n",
       "      <th>3</th>\n",
       "      <td>1</td>\n",
       "      <td>2010-02-26</td>\n",
       "      <td>46.63</td>\n",
       "      <td>2.561</td>\n",
       "      <td>NaN</td>\n",
       "      <td>NaN</td>\n",
       "      <td>NaN</td>\n",
       "      <td>NaN</td>\n",
       "      <td>NaN</td>\n",
       "      <td>211.319643</td>\n",
       "      <td>8.106</td>\n",
       "      <td>False</td>\n",
       "    </tr>\n",
       "    <tr>\n",
       "      <th>4</th>\n",
       "      <td>1</td>\n",
       "      <td>2010-03-05</td>\n",
       "      <td>46.50</td>\n",
       "      <td>2.625</td>\n",
       "      <td>NaN</td>\n",
       "      <td>NaN</td>\n",
       "      <td>NaN</td>\n",
       "      <td>NaN</td>\n",
       "      <td>NaN</td>\n",
       "      <td>211.350143</td>\n",
       "      <td>8.106</td>\n",
       "      <td>False</td>\n",
       "    </tr>\n",
       "  </tbody>\n",
       "</table>\n",
       "</div>"
      ],
      "text/plain": [
       "   Store       Date  Temperature  Fuel_Price  MarkDown1  MarkDown2  MarkDown3  \\\n",
       "0      1 2010-02-05        42.31       2.572        NaN        NaN        NaN   \n",
       "1      1 2010-02-12        38.51       2.548        NaN        NaN        NaN   \n",
       "2      1 2010-02-19        39.93       2.514        NaN        NaN        NaN   \n",
       "3      1 2010-02-26        46.63       2.561        NaN        NaN        NaN   \n",
       "4      1 2010-03-05        46.50       2.625        NaN        NaN        NaN   \n",
       "\n",
       "   MarkDown4  MarkDown5         CPI  Unemployment  IsHoliday  \n",
       "0        NaN        NaN  211.096358         8.106      False  \n",
       "1        NaN        NaN  211.242170         8.106       True  \n",
       "2        NaN        NaN  211.289143         8.106      False  \n",
       "3        NaN        NaN  211.319643         8.106      False  \n",
       "4        NaN        NaN  211.350143         8.106      False  "
      ]
     },
     "execution_count": 10,
     "metadata": {},
     "output_type": "execute_result"
    }
   ],
   "source": [
    "features.head()"
   ]
  },
  {
   "cell_type": "code",
   "execution_count": 11,
   "id": "01468b88",
   "metadata": {
    "execution": {
     "iopub.execute_input": "2025-03-18T20:23:33.574963Z",
     "iopub.status.busy": "2025-03-18T20:23:33.574541Z",
     "iopub.status.idle": "2025-03-18T20:23:33.592775Z",
     "shell.execute_reply": "2025-03-18T20:23:33.591339Z"
    },
    "papermill": {
     "duration": 0.02659,
     "end_time": "2025-03-18T20:23:33.594744",
     "exception": false,
     "start_time": "2025-03-18T20:23:33.568154",
     "status": "completed"
    },
    "tags": []
   },
   "outputs": [
    {
     "data": {
      "text/html": [
       "<div>\n",
       "<style scoped>\n",
       "    .dataframe tbody tr th:only-of-type {\n",
       "        vertical-align: middle;\n",
       "    }\n",
       "\n",
       "    .dataframe tbody tr th {\n",
       "        vertical-align: top;\n",
       "    }\n",
       "\n",
       "    .dataframe thead th {\n",
       "        text-align: right;\n",
       "    }\n",
       "</style>\n",
       "<table border=\"1\" class=\"dataframe\">\n",
       "  <thead>\n",
       "    <tr style=\"text-align: right;\">\n",
       "      <th></th>\n",
       "      <th>Store</th>\n",
       "      <th>Date</th>\n",
       "      <th>Temperature</th>\n",
       "      <th>Fuel_Price</th>\n",
       "      <th>MarkDown1</th>\n",
       "      <th>MarkDown2</th>\n",
       "      <th>MarkDown3</th>\n",
       "      <th>MarkDown4</th>\n",
       "      <th>MarkDown5</th>\n",
       "      <th>CPI</th>\n",
       "      <th>Unemployment</th>\n",
       "      <th>IsHoliday</th>\n",
       "    </tr>\n",
       "  </thead>\n",
       "  <tbody>\n",
       "    <tr>\n",
       "      <th>8185</th>\n",
       "      <td>45</td>\n",
       "      <td>2013-06-28</td>\n",
       "      <td>76.05</td>\n",
       "      <td>3.639</td>\n",
       "      <td>4842.29</td>\n",
       "      <td>975.03</td>\n",
       "      <td>3.00</td>\n",
       "      <td>2449.97</td>\n",
       "      <td>3169.69</td>\n",
       "      <td>NaN</td>\n",
       "      <td>NaN</td>\n",
       "      <td>False</td>\n",
       "    </tr>\n",
       "    <tr>\n",
       "      <th>8186</th>\n",
       "      <td>45</td>\n",
       "      <td>2013-07-05</td>\n",
       "      <td>77.50</td>\n",
       "      <td>3.614</td>\n",
       "      <td>9090.48</td>\n",
       "      <td>2268.58</td>\n",
       "      <td>582.74</td>\n",
       "      <td>5797.47</td>\n",
       "      <td>1514.93</td>\n",
       "      <td>NaN</td>\n",
       "      <td>NaN</td>\n",
       "      <td>False</td>\n",
       "    </tr>\n",
       "    <tr>\n",
       "      <th>8187</th>\n",
       "      <td>45</td>\n",
       "      <td>2013-07-12</td>\n",
       "      <td>79.37</td>\n",
       "      <td>3.614</td>\n",
       "      <td>3789.94</td>\n",
       "      <td>1827.31</td>\n",
       "      <td>85.72</td>\n",
       "      <td>744.84</td>\n",
       "      <td>2150.36</td>\n",
       "      <td>NaN</td>\n",
       "      <td>NaN</td>\n",
       "      <td>False</td>\n",
       "    </tr>\n",
       "    <tr>\n",
       "      <th>8188</th>\n",
       "      <td>45</td>\n",
       "      <td>2013-07-19</td>\n",
       "      <td>82.84</td>\n",
       "      <td>3.737</td>\n",
       "      <td>2961.49</td>\n",
       "      <td>1047.07</td>\n",
       "      <td>204.19</td>\n",
       "      <td>363.00</td>\n",
       "      <td>1059.46</td>\n",
       "      <td>NaN</td>\n",
       "      <td>NaN</td>\n",
       "      <td>False</td>\n",
       "    </tr>\n",
       "    <tr>\n",
       "      <th>8189</th>\n",
       "      <td>45</td>\n",
       "      <td>2013-07-26</td>\n",
       "      <td>76.06</td>\n",
       "      <td>3.804</td>\n",
       "      <td>212.02</td>\n",
       "      <td>851.73</td>\n",
       "      <td>2.06</td>\n",
       "      <td>10.88</td>\n",
       "      <td>1864.57</td>\n",
       "      <td>NaN</td>\n",
       "      <td>NaN</td>\n",
       "      <td>False</td>\n",
       "    </tr>\n",
       "  </tbody>\n",
       "</table>\n",
       "</div>"
      ],
      "text/plain": [
       "      Store       Date  Temperature  Fuel_Price  MarkDown1  MarkDown2  \\\n",
       "8185     45 2013-06-28        76.05       3.639    4842.29     975.03   \n",
       "8186     45 2013-07-05        77.50       3.614    9090.48    2268.58   \n",
       "8187     45 2013-07-12        79.37       3.614    3789.94    1827.31   \n",
       "8188     45 2013-07-19        82.84       3.737    2961.49    1047.07   \n",
       "8189     45 2013-07-26        76.06       3.804     212.02     851.73   \n",
       "\n",
       "      MarkDown3  MarkDown4  MarkDown5  CPI  Unemployment  IsHoliday  \n",
       "8185       3.00    2449.97    3169.69  NaN           NaN      False  \n",
       "8186     582.74    5797.47    1514.93  NaN           NaN      False  \n",
       "8187      85.72     744.84    2150.36  NaN           NaN      False  \n",
       "8188     204.19     363.00    1059.46  NaN           NaN      False  \n",
       "8189       2.06      10.88    1864.57  NaN           NaN      False  "
      ]
     },
     "execution_count": 11,
     "metadata": {},
     "output_type": "execute_result"
    }
   ],
   "source": [
    "features.tail()"
   ]
  },
  {
   "cell_type": "code",
   "execution_count": 12,
   "id": "0e39e9db",
   "metadata": {
    "execution": {
     "iopub.execute_input": "2025-03-18T20:23:33.607884Z",
     "iopub.status.busy": "2025-03-18T20:23:33.607497Z",
     "iopub.status.idle": "2025-03-18T20:23:33.623628Z",
     "shell.execute_reply": "2025-03-18T20:23:33.620941Z"
    },
    "papermill": {
     "duration": 0.025228,
     "end_time": "2025-03-18T20:23:33.625980",
     "exception": false,
     "start_time": "2025-03-18T20:23:33.600752",
     "status": "completed"
    },
    "tags": []
   },
   "outputs": [
    {
     "name": "stdout",
     "output_type": "stream",
     "text": [
      "<class 'pandas.core.frame.DataFrame'>\n",
      "RangeIndex: 8190 entries, 0 to 8189\n",
      "Data columns (total 12 columns):\n",
      " #   Column        Non-Null Count  Dtype         \n",
      "---  ------        --------------  -----         \n",
      " 0   Store         8190 non-null   int64         \n",
      " 1   Date          8190 non-null   datetime64[ns]\n",
      " 2   Temperature   8190 non-null   float64       \n",
      " 3   Fuel_Price    8190 non-null   float64       \n",
      " 4   MarkDown1     4032 non-null   float64       \n",
      " 5   MarkDown2     2921 non-null   float64       \n",
      " 6   MarkDown3     3613 non-null   float64       \n",
      " 7   MarkDown4     3464 non-null   float64       \n",
      " 8   MarkDown5     4050 non-null   float64       \n",
      " 9   CPI           7605 non-null   float64       \n",
      " 10  Unemployment  7605 non-null   float64       \n",
      " 11  IsHoliday     8190 non-null   bool          \n",
      "dtypes: bool(1), datetime64[ns](1), float64(9), int64(1)\n",
      "memory usage: 712.0 KB\n"
     ]
    }
   ],
   "source": [
    "features.info()"
   ]
  },
  {
   "cell_type": "code",
   "execution_count": 13,
   "id": "6096b009",
   "metadata": {
    "execution": {
     "iopub.execute_input": "2025-03-18T20:23:33.640154Z",
     "iopub.status.busy": "2025-03-18T20:23:33.639565Z",
     "iopub.status.idle": "2025-03-18T20:23:33.669543Z",
     "shell.execute_reply": "2025-03-18T20:23:33.668070Z"
    },
    "papermill": {
     "duration": 0.039409,
     "end_time": "2025-03-18T20:23:33.671897",
     "exception": false,
     "start_time": "2025-03-18T20:23:33.632488",
     "status": "completed"
    },
    "tags": []
   },
   "outputs": [
    {
     "name": "stdout",
     "output_type": "stream",
     "text": [
      "========================================\n",
      "Feature: Store\n",
      "Min: 1\n",
      "Max: 45\n",
      "Range: 44\n",
      "======================================== \n",
      "\n",
      "========================================\n",
      "Feature: Date\n",
      "Unique values: <DatetimeArray>\n",
      "['2010-02-05 00:00:00', '2010-02-12 00:00:00', '2010-02-19 00:00:00',\n",
      " '2010-02-26 00:00:00', '2010-03-05 00:00:00', '2010-03-12 00:00:00',\n",
      " '2010-03-19 00:00:00', '2010-03-26 00:00:00', '2010-04-02 00:00:00',\n",
      " '2010-04-09 00:00:00',\n",
      " ...\n",
      " '2013-05-24 00:00:00', '2013-05-31 00:00:00', '2013-06-07 00:00:00',\n",
      " '2013-06-14 00:00:00', '2013-06-21 00:00:00', '2013-06-28 00:00:00',\n",
      " '2013-07-05 00:00:00', '2013-07-12 00:00:00', '2013-07-19 00:00:00',\n",
      " '2013-07-26 00:00:00']\n",
      "Length: 182, dtype: datetime64[ns]\n",
      "======================================== \n",
      "\n",
      "========================================\n",
      "Feature: Temperature\n",
      "Min: -7.29\n",
      "Max: 101.95\n",
      "Range: 109.24000000000001\n",
      "======================================== \n",
      "\n",
      "========================================\n",
      "Feature: Fuel_Price\n",
      "Min: 2.472\n",
      "Max: 4.468\n",
      "Range: 1.996\n",
      "======================================== \n",
      "\n",
      "========================================\n",
      "Feature: MarkDown1\n",
      "Min: -2781.45\n",
      "Max: 103184.98\n",
      "Range: 105966.43\n",
      "======================================== \n",
      "\n",
      "========================================\n",
      "Feature: MarkDown2\n",
      "Min: -265.76\n",
      "Max: 104519.54\n",
      "Range: 104785.29999999999\n",
      "======================================== \n",
      "\n",
      "========================================\n",
      "Feature: MarkDown3\n",
      "Min: -179.26\n",
      "Max: 149483.31\n",
      "Range: 149662.57\n",
      "======================================== \n",
      "\n",
      "========================================\n",
      "Feature: MarkDown4\n",
      "Min: 0.22\n",
      "Max: 67474.85\n",
      "Range: 67474.63\n",
      "======================================== \n",
      "\n",
      "========================================\n",
      "Feature: MarkDown5\n",
      "Min: -185.17\n",
      "Max: 771448.1\n",
      "Range: 771633.27\n",
      "======================================== \n",
      "\n",
      "========================================\n",
      "Feature: CPI\n",
      "Min: 126.064\n",
      "Max: 228.9764563\n",
      "Range: 102.9124563\n",
      "======================================== \n",
      "\n",
      "========================================\n",
      "Feature: Unemployment\n",
      "Min: 3.684\n",
      "Max: 14.313\n",
      "Range: 10.629000000000001\n",
      "======================================== \n",
      "\n",
      "========================================\n",
      "Feature: IsHoliday\n",
      "Unique values: [False  True]\n",
      "======================================== \n",
      "\n"
     ]
    }
   ],
   "source": [
    "display_feature_range(features)"
   ]
  },
  {
   "cell_type": "markdown",
   "id": "5ac1b4cb",
   "metadata": {
    "papermill": {
     "duration": 0.005735,
     "end_time": "2025-03-18T20:23:33.683992",
     "exception": false,
     "start_time": "2025-03-18T20:23:33.678257",
     "status": "completed"
    },
    "tags": []
   },
   "source": [
    "### Train/Test Data"
   ]
  },
  {
   "cell_type": "code",
   "execution_count": 14,
   "id": "36cc0d9d",
   "metadata": {
    "execution": {
     "iopub.execute_input": "2025-03-18T20:23:33.698098Z",
     "iopub.status.busy": "2025-03-18T20:23:33.697642Z",
     "iopub.status.idle": "2025-03-18T20:23:33.709462Z",
     "shell.execute_reply": "2025-03-18T20:23:33.708289Z"
    },
    "papermill": {
     "duration": 0.020598,
     "end_time": "2025-03-18T20:23:33.711405",
     "exception": false,
     "start_time": "2025-03-18T20:23:33.690807",
     "status": "completed"
    },
    "tags": []
   },
   "outputs": [
    {
     "data": {
      "text/html": [
       "<div>\n",
       "<style scoped>\n",
       "    .dataframe tbody tr th:only-of-type {\n",
       "        vertical-align: middle;\n",
       "    }\n",
       "\n",
       "    .dataframe tbody tr th {\n",
       "        vertical-align: top;\n",
       "    }\n",
       "\n",
       "    .dataframe thead th {\n",
       "        text-align: right;\n",
       "    }\n",
       "</style>\n",
       "<table border=\"1\" class=\"dataframe\">\n",
       "  <thead>\n",
       "    <tr style=\"text-align: right;\">\n",
       "      <th></th>\n",
       "      <th>Store</th>\n",
       "      <th>Dept</th>\n",
       "      <th>Date</th>\n",
       "      <th>Weekly_Sales</th>\n",
       "      <th>IsHoliday</th>\n",
       "    </tr>\n",
       "  </thead>\n",
       "  <tbody>\n",
       "    <tr>\n",
       "      <th>0</th>\n",
       "      <td>1</td>\n",
       "      <td>1</td>\n",
       "      <td>2010-02-05</td>\n",
       "      <td>24924.50</td>\n",
       "      <td>False</td>\n",
       "    </tr>\n",
       "    <tr>\n",
       "      <th>1</th>\n",
       "      <td>1</td>\n",
       "      <td>1</td>\n",
       "      <td>2010-02-12</td>\n",
       "      <td>46039.49</td>\n",
       "      <td>True</td>\n",
       "    </tr>\n",
       "    <tr>\n",
       "      <th>2</th>\n",
       "      <td>1</td>\n",
       "      <td>1</td>\n",
       "      <td>2010-02-19</td>\n",
       "      <td>41595.55</td>\n",
       "      <td>False</td>\n",
       "    </tr>\n",
       "    <tr>\n",
       "      <th>3</th>\n",
       "      <td>1</td>\n",
       "      <td>1</td>\n",
       "      <td>2010-02-26</td>\n",
       "      <td>19403.54</td>\n",
       "      <td>False</td>\n",
       "    </tr>\n",
       "    <tr>\n",
       "      <th>4</th>\n",
       "      <td>1</td>\n",
       "      <td>1</td>\n",
       "      <td>2010-03-05</td>\n",
       "      <td>21827.90</td>\n",
       "      <td>False</td>\n",
       "    </tr>\n",
       "  </tbody>\n",
       "</table>\n",
       "</div>"
      ],
      "text/plain": [
       "   Store  Dept       Date  Weekly_Sales  IsHoliday\n",
       "0      1     1 2010-02-05      24924.50      False\n",
       "1      1     1 2010-02-12      46039.49       True\n",
       "2      1     1 2010-02-19      41595.55      False\n",
       "3      1     1 2010-02-26      19403.54      False\n",
       "4      1     1 2010-03-05      21827.90      False"
      ]
     },
     "execution_count": 14,
     "metadata": {},
     "output_type": "execute_result"
    }
   ],
   "source": [
    "train.head()"
   ]
  },
  {
   "cell_type": "code",
   "execution_count": 15,
   "id": "97c58ea1",
   "metadata": {
    "execution": {
     "iopub.execute_input": "2025-03-18T20:23:33.726770Z",
     "iopub.status.busy": "2025-03-18T20:23:33.726412Z",
     "iopub.status.idle": "2025-03-18T20:23:33.738867Z",
     "shell.execute_reply": "2025-03-18T20:23:33.737412Z"
    },
    "papermill": {
     "duration": 0.022552,
     "end_time": "2025-03-18T20:23:33.740966",
     "exception": false,
     "start_time": "2025-03-18T20:23:33.718414",
     "status": "completed"
    },
    "tags": []
   },
   "outputs": [
    {
     "data": {
      "text/html": [
       "<div>\n",
       "<style scoped>\n",
       "    .dataframe tbody tr th:only-of-type {\n",
       "        vertical-align: middle;\n",
       "    }\n",
       "\n",
       "    .dataframe tbody tr th {\n",
       "        vertical-align: top;\n",
       "    }\n",
       "\n",
       "    .dataframe thead th {\n",
       "        text-align: right;\n",
       "    }\n",
       "</style>\n",
       "<table border=\"1\" class=\"dataframe\">\n",
       "  <thead>\n",
       "    <tr style=\"text-align: right;\">\n",
       "      <th></th>\n",
       "      <th>Store</th>\n",
       "      <th>Dept</th>\n",
       "      <th>Date</th>\n",
       "      <th>Weekly_Sales</th>\n",
       "      <th>IsHoliday</th>\n",
       "    </tr>\n",
       "  </thead>\n",
       "  <tbody>\n",
       "    <tr>\n",
       "      <th>421565</th>\n",
       "      <td>45</td>\n",
       "      <td>98</td>\n",
       "      <td>2012-09-28</td>\n",
       "      <td>508.37</td>\n",
       "      <td>False</td>\n",
       "    </tr>\n",
       "    <tr>\n",
       "      <th>421566</th>\n",
       "      <td>45</td>\n",
       "      <td>98</td>\n",
       "      <td>2012-10-05</td>\n",
       "      <td>628.10</td>\n",
       "      <td>False</td>\n",
       "    </tr>\n",
       "    <tr>\n",
       "      <th>421567</th>\n",
       "      <td>45</td>\n",
       "      <td>98</td>\n",
       "      <td>2012-10-12</td>\n",
       "      <td>1061.02</td>\n",
       "      <td>False</td>\n",
       "    </tr>\n",
       "    <tr>\n",
       "      <th>421568</th>\n",
       "      <td>45</td>\n",
       "      <td>98</td>\n",
       "      <td>2012-10-19</td>\n",
       "      <td>760.01</td>\n",
       "      <td>False</td>\n",
       "    </tr>\n",
       "    <tr>\n",
       "      <th>421569</th>\n",
       "      <td>45</td>\n",
       "      <td>98</td>\n",
       "      <td>2012-10-26</td>\n",
       "      <td>1076.80</td>\n",
       "      <td>False</td>\n",
       "    </tr>\n",
       "  </tbody>\n",
       "</table>\n",
       "</div>"
      ],
      "text/plain": [
       "        Store  Dept       Date  Weekly_Sales  IsHoliday\n",
       "421565     45    98 2012-09-28        508.37      False\n",
       "421566     45    98 2012-10-05        628.10      False\n",
       "421567     45    98 2012-10-12       1061.02      False\n",
       "421568     45    98 2012-10-19        760.01      False\n",
       "421569     45    98 2012-10-26       1076.80      False"
      ]
     },
     "execution_count": 15,
     "metadata": {},
     "output_type": "execute_result"
    }
   ],
   "source": [
    "train.tail()"
   ]
  },
  {
   "cell_type": "code",
   "execution_count": 16,
   "id": "a0592a28",
   "metadata": {
    "execution": {
     "iopub.execute_input": "2025-03-18T20:23:33.755979Z",
     "iopub.status.busy": "2025-03-18T20:23:33.755566Z",
     "iopub.status.idle": "2025-03-18T20:23:33.780163Z",
     "shell.execute_reply": "2025-03-18T20:23:33.778492Z"
    },
    "papermill": {
     "duration": 0.034802,
     "end_time": "2025-03-18T20:23:33.782446",
     "exception": false,
     "start_time": "2025-03-18T20:23:33.747644",
     "status": "completed"
    },
    "tags": []
   },
   "outputs": [
    {
     "name": "stdout",
     "output_type": "stream",
     "text": [
      "<class 'pandas.core.frame.DataFrame'>\n",
      "RangeIndex: 421570 entries, 0 to 421569\n",
      "Data columns (total 5 columns):\n",
      " #   Column        Non-Null Count   Dtype         \n",
      "---  ------        --------------   -----         \n",
      " 0   Store         421570 non-null  int64         \n",
      " 1   Dept          421570 non-null  int64         \n",
      " 2   Date          421570 non-null  datetime64[ns]\n",
      " 3   Weekly_Sales  421570 non-null  float64       \n",
      " 4   IsHoliday     421570 non-null  bool          \n",
      "dtypes: bool(1), datetime64[ns](1), float64(1), int64(2)\n",
      "memory usage: 13.3 MB\n"
     ]
    }
   ],
   "source": [
    "train.info()"
   ]
  },
  {
   "cell_type": "code",
   "execution_count": 17,
   "id": "6bf2ee50",
   "metadata": {
    "execution": {
     "iopub.execute_input": "2025-03-18T20:23:33.798722Z",
     "iopub.status.busy": "2025-03-18T20:23:33.798315Z",
     "iopub.status.idle": "2025-03-18T20:23:33.815339Z",
     "shell.execute_reply": "2025-03-18T20:23:33.812827Z"
    },
    "papermill": {
     "duration": 0.028688,
     "end_time": "2025-03-18T20:23:33.817857",
     "exception": false,
     "start_time": "2025-03-18T20:23:33.789169",
     "status": "completed"
    },
    "tags": []
   },
   "outputs": [
    {
     "name": "stdout",
     "output_type": "stream",
     "text": [
      "<class 'pandas.core.frame.DataFrame'>\n",
      "RangeIndex: 115064 entries, 0 to 115063\n",
      "Data columns (total 4 columns):\n",
      " #   Column     Non-Null Count   Dtype         \n",
      "---  ------     --------------   -----         \n",
      " 0   Store      115064 non-null  int64         \n",
      " 1   Dept       115064 non-null  int64         \n",
      " 2   Date       115064 non-null  datetime64[ns]\n",
      " 3   IsHoliday  115064 non-null  bool          \n",
      "dtypes: bool(1), datetime64[ns](1), int64(2)\n",
      "memory usage: 2.7 MB\n"
     ]
    }
   ],
   "source": [
    "test.info()"
   ]
  },
  {
   "cell_type": "code",
   "execution_count": 18,
   "id": "5f58ca87",
   "metadata": {
    "execution": {
     "iopub.execute_input": "2025-03-18T20:23:33.834577Z",
     "iopub.status.busy": "2025-03-18T20:23:33.834131Z",
     "iopub.status.idle": "2025-03-18T20:23:33.859326Z",
     "shell.execute_reply": "2025-03-18T20:23:33.858137Z"
    },
    "papermill": {
     "duration": 0.035516,
     "end_time": "2025-03-18T20:23:33.861388",
     "exception": false,
     "start_time": "2025-03-18T20:23:33.825872",
     "status": "completed"
    },
    "tags": []
   },
   "outputs": [
    {
     "name": "stdout",
     "output_type": "stream",
     "text": [
      "========================================\n",
      "Feature: Store\n",
      "Min: 1\n",
      "Max: 45\n",
      "Range: 44\n",
      "======================================== \n",
      "\n",
      "========================================\n",
      "Feature: Dept\n",
      "Min: 1\n",
      "Max: 99\n",
      "Range: 98\n",
      "======================================== \n",
      "\n",
      "========================================\n",
      "Feature: Date\n",
      "Unique values: <DatetimeArray>\n",
      "['2010-02-05 00:00:00', '2010-02-12 00:00:00', '2010-02-19 00:00:00',\n",
      " '2010-02-26 00:00:00', '2010-03-05 00:00:00', '2010-03-12 00:00:00',\n",
      " '2010-03-19 00:00:00', '2010-03-26 00:00:00', '2010-04-02 00:00:00',\n",
      " '2010-04-09 00:00:00',\n",
      " ...\n",
      " '2012-08-24 00:00:00', '2012-08-31 00:00:00', '2012-09-07 00:00:00',\n",
      " '2012-09-14 00:00:00', '2012-09-21 00:00:00', '2012-09-28 00:00:00',\n",
      " '2012-10-05 00:00:00', '2012-10-12 00:00:00', '2012-10-19 00:00:00',\n",
      " '2012-10-26 00:00:00']\n",
      "Length: 143, dtype: datetime64[ns]\n",
      "======================================== \n",
      "\n",
      "========================================\n",
      "Feature: Weekly_Sales\n",
      "Min: -4988.94\n",
      "Max: 693099.36\n",
      "Range: 698088.2999999999\n",
      "======================================== \n",
      "\n",
      "========================================\n",
      "Feature: IsHoliday\n",
      "Unique values: [False  True]\n",
      "======================================== \n",
      "\n"
     ]
    }
   ],
   "source": [
    "display_feature_range(train)"
   ]
  },
  {
   "cell_type": "code",
   "execution_count": null,
   "id": "eb596d03",
   "metadata": {
    "papermill": {
     "duration": 0.006537,
     "end_time": "2025-03-18T20:23:33.875087",
     "exception": false,
     "start_time": "2025-03-18T20:23:33.868550",
     "status": "completed"
    },
    "tags": []
   },
   "outputs": [],
   "source": []
  }
 ],
 "metadata": {
  "kaggle": {
   "accelerator": "none",
   "dataSources": [
    {
     "datasetId": 2107830,
     "sourceId": 3502310,
     "sourceType": "datasetVersion"
    }
   ],
   "dockerImageVersionId": 30918,
   "isGpuEnabled": false,
   "isInternetEnabled": true,
   "language": "python",
   "sourceType": "notebook"
  },
  "kernelspec": {
   "display_name": "Python 3",
   "language": "python",
   "name": "python3"
  },
  "language_info": {
   "codemirror_mode": {
    "name": "ipython",
    "version": 3
   },
   "file_extension": ".py",
   "mimetype": "text/x-python",
   "name": "python",
   "nbconvert_exporter": "python",
   "pygments_lexer": "ipython3",
   "version": "3.10.12"
  },
  "papermill": {
   "default_parameters": {},
   "duration": 6.148168,
   "end_time": "2025-03-18T20:23:34.502538",
   "environment_variables": {},
   "exception": null,
   "input_path": "__notebook__.ipynb",
   "output_path": "__notebook__.ipynb",
   "parameters": {},
   "start_time": "2025-03-18T20:23:28.354370",
   "version": "2.6.0"
  }
 },
 "nbformat": 4,
 "nbformat_minor": 5
}
